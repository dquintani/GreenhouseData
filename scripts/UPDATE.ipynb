{
 "cells": [
  {
   "cell_type": "markdown",
   "id": "feda3957-c406-414e-bf72-8aab5e0335d4",
   "metadata": {},
   "source": [
    "# this part is unfinished"
   ]
  },
  {
   "cell_type": "markdown",
   "id": "282ff210-1a9a-40ff-9a78-a524adb9551e",
   "metadata": {},
   "source": [
    "# Update process:\n",
    "\n",
    "### First, ask yourself if the following are updated:\n",
    "- COUNTRY_DICT_JSON_Maker\n",
    "- Directory_Manager (includes CSV generator)\n",
    "- Inventories_Main"
   ]
  },
  {
   "cell_type": "code",
   "execution_count": 8,
   "id": "e2067c92-9c39-4037-8425-0e53623ebae0",
   "metadata": {},
   "outputs": [],
   "source": [
    "import warnings\n",
    "import random\n",
    "import os\n",
    "import glob\n",
    "import shutil\n",
    "import requests\n",
    "from datetime import datetime\n",
    "import pandas as pd\n",
    "import matplotlib.pyplot as plt\n",
    "import numpy as np\n",
    "warnings.filterwarnings(\"ignore\")\n",
    "warnings.simplefilter('ignore', ResourceWarning)"
   ]
  },
  {
   "cell_type": "markdown",
   "id": "4eb16dd1-a44e-422b-9846-ac3aab923de6",
   "metadata": {},
   "source": [
    "# Update website"
   ]
  },
  {
   "cell_type": "code",
   "execution_count": 12,
   "id": "8a827989-35e3-4cc0-a65d-93b67ad824e3",
   "metadata": {},
   "outputs": [
    {
     "name": "stdout",
     "output_type": "stream",
     "text": [
      "pages updated\n",
      "Homepage updated\n",
      "countries page updated\n"
     ]
    }
   ],
   "source": [
    "warnings.simplefilter('ignore', ResourceWarning)\n",
    "%run Pages.ipynb"
   ]
  },
  {
   "cell_type": "code",
   "execution_count": 14,
   "id": "8b9ca2bb-3327-4875-b0a6-3d5eb36064d3",
   "metadata": {},
   "outputs": [
    {
     "name": "stdout",
     "output_type": "stream",
     "text": [
      "Global & country READMES updated\n"
     ]
    }
   ],
   "source": [
    "warnings.simplefilter('ignore', ResourceWarning)\n",
    "%run README_general.ipynb"
   ]
  },
  {
   "cell_type": "code",
   "execution_count": 13,
   "id": "d8e66c6c-4dd9-4cee-a9d0-226b9368b04f",
   "metadata": {},
   "outputs": [
    {
     "name": "stdout",
     "output_type": "stream",
     "text": [
      "Homepage updated\n"
     ]
    }
   ],
   "source": [
    "warnings.simplefilter('ignore', ResourceWarning)\n",
    "%run README_homepage.ipynb"
   ]
  },
  {
   "cell_type": "markdown",
   "id": "6d4c41cf-7ee3-4401-9b87-3b19d2726c80",
   "metadata": {},
   "source": [
    "# Check data updates\n",
    "\n",
    "Currently covers:\n",
    "- Carbon Monitor\n",
    "- NOAA CO2, CH4 & N20"
   ]
  },
  {
   "cell_type": "code",
   "execution_count": null,
   "id": "9d6b8554-84b4-40c2-af54-b1ff0cf2e982",
   "metadata": {},
   "outputs": [],
   "source": []
  },
  {
   "cell_type": "code",
   "execution_count": null,
   "id": "f7f398a5-8a81-480e-bae8-027604a1fa0b",
   "metadata": {},
   "outputs": [],
   "source": []
  },
  {
   "cell_type": "code",
   "execution_count": null,
   "id": "02b62018-9987-43f0-976a-56088e532305",
   "metadata": {},
   "outputs": [],
   "source": []
  },
  {
   "cell_type": "code",
   "execution_count": null,
   "id": "5974da92-02d6-4fe2-b219-1b86af290edb",
   "metadata": {},
   "outputs": [],
   "source": []
  },
  {
   "cell_type": "code",
   "execution_count": null,
   "id": "c7113cb4-724d-4f51-87bc-743d8a19f759",
   "metadata": {},
   "outputs": [],
   "source": []
  },
  {
   "cell_type": "code",
   "execution_count": null,
   "id": "6a40fb8e-fa94-4415-ad88-58fa3c4fedc6",
   "metadata": {},
   "outputs": [],
   "source": []
  },
  {
   "cell_type": "code",
   "execution_count": null,
   "id": "2d6eb00d-a5e5-4405-a89c-2e18e97dffb8",
   "metadata": {},
   "outputs": [],
   "source": []
  },
  {
   "cell_type": "code",
   "execution_count": null,
   "id": "aa447947-e18a-4259-abfa-fedc3e8686a3",
   "metadata": {},
   "outputs": [],
   "source": []
  }
 ],
 "metadata": {
  "kernelspec": {
   "display_name": "Python 3 (ipykernel)",
   "language": "python",
   "name": "python3"
  },
  "language_info": {
   "codemirror_mode": {
    "name": "ipython",
    "version": 3
   },
   "file_extension": ".py",
   "mimetype": "text/x-python",
   "name": "python",
   "nbconvert_exporter": "python",
   "pygments_lexer": "ipython3",
   "version": "3.9.12"
  },
  "widgets": {
   "application/vnd.jupyter.widget-state+json": {
    "state": {},
    "version_major": 2,
    "version_minor": 0
   }
  }
 },
 "nbformat": 4,
 "nbformat_minor": 5
}
