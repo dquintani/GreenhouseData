{
 "cells": [
  {
   "cell_type": "markdown",
   "id": "feda3957-c406-414e-bf72-8aab5e0335d4",
   "metadata": {},
   "source": [
    "# this part is unfinished"
   ]
  },
  {
   "cell_type": "markdown",
   "id": "282ff210-1a9a-40ff-9a78-a524adb9551e",
   "metadata": {},
   "source": [
    "# Update process:\n",
    "\n",
    "### First, ask yourself if the following are updated:\n",
    "- COUNTRY_DICT_JSON_Maker\n",
    "- Directory_Manager (includes CSV generator)\n",
    "- Inventories_Main"
   ]
  },
  {
   "cell_type": "code",
   "execution_count": 1,
   "id": "e2067c92-9c39-4037-8425-0e53623ebae0",
   "metadata": {},
   "outputs": [],
   "source": [
    "import warnings\n",
    "warnings.filterwarnings(\"ignore\")"
   ]
  },
  {
   "cell_type": "code",
   "execution_count": 6,
   "id": "8a827989-35e3-4cc0-a65d-93b67ad824e3",
   "metadata": {},
   "outputs": [
    {
     "name": "stderr",
     "output_type": "stream",
     "text": [
      "/home/dquintubux/.local/lib/python3.8/site-packages/nbconvert/exporters/html.py:151: DeprecationWarning: 'jinja2.Markup' is deprecated and will be removed in Jinja 3.1. Import 'markupsafe.Markup' instead.\n",
      "  return jinja2.Markup(code)\n",
      "/tmp/ipykernel_526956/2546854365.py:1: ResourceWarning: unclosed file <_io.TextIOWrapper name='../supplemental/STANDARD_COUNTRY_DICT_ISO3.json' mode='r' encoding='UTF-8'>\n",
      "  STANDARD_COUNTRY_DICT = json.load(open(\"../supplemental/STANDARD_COUNTRY_DICT_ISO3.json\", \"r\"))\n",
      "ResourceWarning: Enable tracemalloc to get the object allocation traceback\n"
     ]
    },
    {
     "name": "stdout",
     "output_type": "stream",
     "text": [
      "pages updated\n",
      "Homepage updated\n",
      "countries page updated\n"
     ]
    }
   ],
   "source": [
    "%run Pages.ipynb"
   ]
  },
  {
   "cell_type": "code",
   "execution_count": 7,
   "id": "8b9ca2bb-3327-4875-b0a6-3d5eb36064d3",
   "metadata": {},
   "outputs": [
    {
     "name": "stderr",
     "output_type": "stream",
     "text": [
      "/tmp/ipykernel_526956/2546854365.py:1: ResourceWarning: unclosed file <_io.TextIOWrapper name='../supplemental/STANDARD_COUNTRY_DICT_ISO3.json' mode='r' encoding='UTF-8'>\n",
      "  STANDARD_COUNTRY_DICT = json.load(open(\"../supplemental/STANDARD_COUNTRY_DICT_ISO3.json\", \"r\"))\n",
      "ResourceWarning: Enable tracemalloc to get the object allocation traceback\n",
      "/tmp/ipykernel_526956/3538633542.py:17: ResourceWarning: unclosed file <_io.TextIOWrapper name='README.md' mode='w+' encoding='UTF-8'>\n",
      "  open('README.md', 'w+')\n",
      "ResourceWarning: Enable tracemalloc to get the object allocation traceback\n",
      "/tmp/ipykernel_526956/1850389579.py:26: ResourceWarning: unclosed file <_io.TextIOWrapper name='README.md' mode='w+' encoding='UTF-8'>\n",
      "  open('README.md', 'w+')\n",
      "ResourceWarning: Enable tracemalloc to get the object allocation traceback\n"
     ]
    },
    {
     "name": "stdout",
     "output_type": "stream",
     "text": [
      "Global & country READMES updated\n"
     ]
    }
   ],
   "source": [
    "%run README_general.ipynb"
   ]
  },
  {
   "cell_type": "code",
   "execution_count": 8,
   "id": "d8e66c6c-4dd9-4cee-a9d0-226b9368b04f",
   "metadata": {},
   "outputs": [
    {
     "name": "stderr",
     "output_type": "stream",
     "text": [
      "/tmp/ipykernel_526956/2546854365.py:1: ResourceWarning: unclosed file <_io.TextIOWrapper name='../supplemental/STANDARD_COUNTRY_DICT_ISO3.json' mode='r' encoding='UTF-8'>\n",
      "  STANDARD_COUNTRY_DICT = json.load(open(\"../supplemental/STANDARD_COUNTRY_DICT_ISO3.json\", \"r\"))\n",
      "ResourceWarning: Enable tracemalloc to get the object allocation traceback\n"
     ]
    },
    {
     "name": "stdout",
     "output_type": "stream",
     "text": [
      "Homepage updated\n"
     ]
    }
   ],
   "source": [
    "%run README_homepage.ipynb"
   ]
  },
  {
   "cell_type": "code",
   "execution_count": null,
   "id": "18f4d0da-c350-4c71-9dee-81b20fbf70ae",
   "metadata": {},
   "outputs": [],
   "source": []
  }
 ],
 "metadata": {
  "kernelspec": {
   "display_name": "Python 3 (ipykernel)",
   "language": "python",
   "name": "python3"
  },
  "language_info": {
   "codemirror_mode": {
    "name": "ipython",
    "version": 3
   },
   "file_extension": ".py",
   "mimetype": "text/x-python",
   "name": "python",
   "nbconvert_exporter": "python",
   "pygments_lexer": "ipython3",
   "version": "3.8.10"
  },
  "widgets": {
   "application/vnd.jupyter.widget-state+json": {
    "state": {},
    "version_major": 2,
    "version_minor": 0
   }
  }
 },
 "nbformat": 4,
 "nbformat_minor": 5
}
