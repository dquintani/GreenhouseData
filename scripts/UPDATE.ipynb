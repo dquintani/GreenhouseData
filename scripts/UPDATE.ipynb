{
 "cells": [
  {
   "cell_type": "markdown",
   "id": "feda3957-c406-414e-bf72-8aab5e0335d4",
   "metadata": {},
   "source": [
    "# this part is unfinished"
   ]
  },
  {
   "cell_type": "markdown",
   "id": "282ff210-1a9a-40ff-9a78-a524adb9551e",
   "metadata": {},
   "source": [
    "# Update process:\n",
    "\n",
    "### First, ask yourself if the following are updated:\n",
    "- COUNTRY_DICT_JSON_Maker\n",
    "- Directory_Manager (includes CSV generator)\n",
    "- Inventories_Main"
   ]
  },
  {
   "cell_type": "code",
   "execution_count": 6,
   "id": "e2067c92-9c39-4037-8425-0e53623ebae0",
   "metadata": {},
   "outputs": [],
   "source": [
    "import warnings\n",
    "warnings.filterwarnings(\"ignore\")"
   ]
  },
  {
   "cell_type": "code",
   "execution_count": 1,
   "id": "8a827989-35e3-4cc0-a65d-93b67ad824e3",
   "metadata": {},
   "outputs": [
    {
     "name": "stdout",
     "output_type": "stream",
     "text": [
      "pages updated\n"
     ]
    }
   ],
   "source": [
    "%run Pages.ipynb"
   ]
  },
  {
   "cell_type": "code",
   "execution_count": 2,
   "id": "8b9ca2bb-3327-4875-b0a6-3d5eb36064d3",
   "metadata": {},
   "outputs": [
    {
     "name": "stdout",
     "output_type": "stream",
     "text": [
      "Global & country READMES updated\n"
     ]
    }
   ],
   "source": [
    "%run README_general.ipynb"
   ]
  },
  {
   "cell_type": "code",
   "execution_count": 3,
   "id": "d8e66c6c-4dd9-4cee-a9d0-226b9368b04f",
   "metadata": {},
   "outputs": [
    {
     "name": "stdout",
     "output_type": "stream",
     "text": [
      "Homepage updated\n"
     ]
    }
   ],
   "source": [
    "%run README_homepage.ipynb"
   ]
  }
 ],
 "metadata": {
  "kernelspec": {
   "display_name": "Python 3 (ipykernel)",
   "language": "python",
   "name": "python3"
  },
  "language_info": {
   "codemirror_mode": {
    "name": "ipython",
    "version": 3
   },
   "file_extension": ".py",
   "mimetype": "text/x-python",
   "name": "python",
   "nbconvert_exporter": "python",
   "pygments_lexer": "ipython3",
   "version": "3.8.10"
  }
 },
 "nbformat": 4,
 "nbformat_minor": 5
}
