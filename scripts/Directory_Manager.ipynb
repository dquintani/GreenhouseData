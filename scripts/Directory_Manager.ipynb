{
 "cells": [
  {
   "cell_type": "markdown",
   "id": "9a647f00-a9f3-45fd-9005-36f37a7fb299",
   "metadata": {},
   "source": [
    "# 2 main parts:\n",
    " - Directory Maker\n",
    " - CSV Generator"
   ]
  },
  {
   "cell_type": "code",
   "execution_count": 1,
   "id": "2af2b97b-54e4-4606-b5ab-231121d43c04",
   "metadata": {},
   "outputs": [
    {
     "name": "stdout",
     "output_type": "stream",
     "text": [
      "current dir: /home/dquintubux/Documents/GHG-Project/Greenhouse-Data/scripts\n",
      "Requirements imported!\n"
     ]
    },
    {
     "name": "stderr",
     "output_type": "stream",
     "text": [
      "/tmp/ipykernel_126923/2136897211.py:8: DtypeWarning: Columns (0) have mixed types. Specify dtype option on import or set low_memory=False.\n",
      "  df_fao = pd.read_csv(\"../clean_data/FAO.csv\")\n"
     ]
    },
    {
     "name": "stdout",
     "output_type": "stream",
     "text": [
      "Inventories imported!\n"
     ]
    }
   ],
   "source": [
    "%run Requirements.ipynb\n",
    "%run Inventory_Importer.ipynb"
   ]
  },
  {
   "cell_type": "markdown",
   "id": "b59efdf7-4007-4ac7-9921-5e22dec72ece",
   "metadata": {},
   "source": [
    "# change directory to country_data"
   ]
  },
  {
   "cell_type": "code",
   "execution_count": 2,
   "id": "b866d4fd-72b6-4bbf-8905-982ef77114ad",
   "metadata": {},
   "outputs": [
    {
     "name": "stdout",
     "output_type": "stream",
     "text": [
      "Starting base: scripts\n",
      "Ending base: scripts\n",
      "Country Directory is: country_data/\n"
     ]
    }
   ],
   "source": [
    "current_folder=\"scripts\"\n",
    "\n",
    "current_base = os.path.basename(os.getcwd())\n",
    "print(f\"Starting base: {current_base}\")\n",
    "if current_base != current_folder:\n",
    "    os.chdir(\"../\")\n",
    "    os.chdir(current_folder)\n",
    "print(f\"Ending base: {os.path.basename(os.getcwd())}\")\n",
    "\n",
    "# Country Directory path\n",
    "country_dir = \"country_data/\"\n",
    "print(f\"Country Directory is: {country_dir}\")"
   ]
  },
  {
   "cell_type": "markdown",
   "id": "63b0504f-be9a-49ae-8562-38b89cc45695",
   "metadata": {},
   "source": [
    "# 1. Directory Maker"
   ]
  },
  {
   "cell_type": "markdown",
   "id": "62a80340-5b84-4d73-9976-5c01a97463ea",
   "metadata": {},
   "source": [
    "Checks existence of directory. If directories don't exist, it creates them using the format \"ISO : {name}\":"
   ]
  },
  {
   "cell_type": "code",
   "execution_count": 3,
   "id": "6946a6d0-69c9-42db-b431-bc1de0f6b08c",
   "metadata": {},
   "outputs": [],
   "source": [
    "STANDARD_COUNTRY_DICT = json.load(open(\"../supplemental/STANDARD_COUNTRY_DICT_ISO3.json\", \"r\"))"
   ]
  },
  {
   "cell_type": "code",
   "execution_count": 4,
   "id": "cc060e6c-5c0f-4b21-9d29-fae3f9535835",
   "metadata": {},
   "outputs": [
    {
     "data": {
      "text/plain": [
       "'/home/dquintubux/Documents/GHG-Project/Greenhouse-Data/scripts'"
      ]
     },
     "execution_count": 4,
     "metadata": {},
     "output_type": "execute_result"
    }
   ],
   "source": [
    "os.getcwd()"
   ]
  },
  {
   "cell_type": "code",
   "execution_count": 5,
   "id": "921e81d5-b181-4884-a246-3d2b62158876",
   "metadata": {},
   "outputs": [],
   "source": [
    "def make_directory_for_each_country(path_before, name_list, i_var):\n",
    "    dir_path_new = os.path.join(path_before,f\"{name_list}/\")    \n",
    "    if not os.path.exists(dir_path_new):\n",
    "        os.mkdir(dir_path_new)\n",
    "    \n",
    "    #go to directory to create figures and data folders\n",
    "    if not os.path.exists(path_before + name_list + \"/figures\"):\n",
    "        os.mkdir(path_before + name_list + \"/figures\")\n",
    "    if not os.path.exists(path_before + name_list + \"/data\"):\n",
    "        os.mkdir(path_before + name_list + \"/data\")\n"
   ]
  },
  {
   "cell_type": "code",
   "execution_count": 6,
   "id": "f3c0476b-4375-4947-a472-fae04d3cbcee",
   "metadata": {},
   "outputs": [
    {
     "name": "stdout",
     "output_type": "stream",
     "text": [
      "Directory maker finalized!\n"
     ]
    }
   ],
   "source": [
    "for i in range(len(list(STANDARD_COUNTRY_DICT))):\n",
    "    make_directory_for_each_country(path_before=\"../\" + country_dir, \n",
    "                                    name_list = list(STANDARD_COUNTRY_DICT.keys())[i]+\"_\"+list(STANDARD_COUNTRY_DICT.values())[i],\n",
    "                                    i_var=i)\n",
    "    \n",
    "print(\"Directory maker finalized!\")"
   ]
  },
  {
   "cell_type": "code",
   "execution_count": null,
   "id": "23153ee8-4a4b-4172-b3f4-04ecf588f14c",
   "metadata": {},
   "outputs": [],
   "source": [
    "os.getcwd()"
   ]
  },
  {
   "cell_type": "markdown",
   "id": "2ff87964-b849-4e89-ac39-fa502cc46b12",
   "metadata": {},
   "source": []
  },
  {
   "cell_type": "markdown",
   "id": "ba532cc1-3d46-487f-8b4b-1c60eda370d7",
   "metadata": {},
   "source": []
  },
  {
   "cell_type": "markdown",
   "id": "d09cc792-6c53-4194-a490-b15fcdcdf04d",
   "metadata": {},
   "source": []
  },
  {
   "cell_type": "markdown",
   "id": "c6b861a8-7710-4a20-a8a4-0a942e818dae",
   "metadata": {},
   "source": []
  },
  {
   "cell_type": "markdown",
   "id": "f5a7cbb3-d128-4f87-81d9-a5c03651daa4",
   "metadata": {},
   "source": [
    "# 2. CSV GENERATOR"
   ]
  },
  {
   "cell_type": "markdown",
   "id": "94d11656-0392-4ae3-8d58-a7deb0e3fdab",
   "metadata": {},
   "source": [
    "Main function for csv generator:"
   ]
  },
  {
   "cell_type": "code",
   "execution_count": null,
   "id": "c1773008-8494-46f8-a91b-d3e9912d868d",
   "metadata": {},
   "outputs": [],
   "source": [
    "# Main function\n",
    "def COUNTRY_DATA_SAVER(df, code, file_ending, transpose=False):\n",
    "    df = df\n",
    "    df = df[df.code==code]\n",
    "    if transpose==True:\n",
    "        df = df.T.reset_index()\n",
    "    df.to_csv(country_dir + code + \"_\" + STANDARD_COUNTRY_DICT[code] + \"/data/\" + code + \"_\" + file_ending, index=None)"
   ]
  },
  {
   "cell_type": "markdown",
   "id": "685da8d2-5a7b-45bf-ade8-825303e79b16",
   "metadata": {},
   "source": [
    "Saving country data for each inventory:"
   ]
  },
  {
   "cell_type": "code",
   "execution_count": null,
   "id": "79612e89-8d94-4d15-9fc2-bad225bbd734",
   "metadata": {},
   "outputs": [],
   "source": [
    "#BP\n",
    "code_list_bp = list(df_bp.code.dropna().unique())\n",
    "for i in range(len(code_list_bp)):\n",
    "    COUNTRY_DATA_SAVER(df_bp,code_list_bp[i], file_ending=\"BP.csv\", transpose=False)\n",
    "print(\"BP country data saved\")"
   ]
  },
  {
   "cell_type": "code",
   "execution_count": null,
   "id": "801ec4e4-535e-4e1f-a12c-5f3903822037",
   "metadata": {},
   "outputs": [],
   "source": [
    "#CDIAC\n",
    "code_list_cdiac = list(df_cdiac.code.dropna().unique())\n",
    "for i in range(len(code_list_cdiac)):\n",
    "    COUNTRY_DATA_SAVER(df_cdiac,code_list_cdiac[i], file_ending=\"CDIAC.csv\", transpose=False)\n",
    "print(\"CDIAC country data saved\")"
   ]
  },
  {
   "cell_type": "code",
   "execution_count": null,
   "id": "66469728-e885-4f2c-a8cd-0b28920448e8",
   "metadata": {},
   "outputs": [],
   "source": [
    "#EIA\n",
    "code_list_eia = list(df_eia.code.dropna().unique())\n",
    "for i in range(len(code_list_eia)):\n",
    "    COUNTRY_DATA_SAVER(df_eia,code_list_eia[i], file_ending=\"EIA.csv\", transpose=False)\n",
    "print(\"EIA country data saved\")"
   ]
  },
  {
   "cell_type": "code",
   "execution_count": null,
   "id": "235a2aae-32ae-44ea-a75b-6a423d4c7e98",
   "metadata": {},
   "outputs": [],
   "source": [
    "#IEA\n",
    "code_list_iea = list(df_iea.code.dropna().unique())\n",
    "for i in range(len(code_list_iea)):\n",
    "    COUNTRY_DATA_SAVER(df_iea,code_list_iea[i], file_ending=\"IEA.csv\", transpose=False)\n",
    "print(\"IEA country data saved\")"
   ]
  },
  {
   "cell_type": "code",
   "execution_count": null,
   "id": "2e7bcf82-801c-454b-bb52-16bf103b6a02",
   "metadata": {},
   "outputs": [],
   "source": [
    "#EPA\n",
    "code_list_epa = list(df_epa.code.dropna().unique())\n",
    "for i in range(len(code_list_epa)):\n",
    "    COUNTRY_DATA_SAVER(df_epa,code_list_epa[i], file_ending=\"EPA.csv\", transpose=False)\n",
    "print(\"EPA country data saved\")"
   ]
  },
  {
   "cell_type": "code",
   "execution_count": null,
   "id": "99670cd1-6c1f-4d7c-9b19-efb4542d28f5",
   "metadata": {},
   "outputs": [],
   "source": [
    "#FAO\n",
    "code_list_fao = list(df_fao.code.dropna().unique())\n",
    "for i in range(len(code_list_fao)):\n",
    "    COUNTRY_DATA_SAVER(df_fao, code_list_fao[i], file_ending=\"FAO.csv\", transpose=False)\n",
    "print(\"FAO country data saved\")"
   ]
  },
  {
   "cell_type": "code",
   "execution_count": null,
   "id": "e9a04009-e7a0-4860-a75d-5e8b123d96ca",
   "metadata": {},
   "outputs": [],
   "source": [
    "#GCP (prod)\n",
    "code_list_gcp = list(df_gcp.code.dropna().unique())\n",
    "for i in range(len(code_list_gcp)):\n",
    "    COUNTRY_DATA_SAVER(df_gcp,code_list_gcp[i], file_ending=\"GCP.csv\", transpose=False)\n",
    "print(\"GCP (prod) country data saved\")"
   ]
  },
  {
   "cell_type": "code",
   "execution_count": null,
   "id": "75fe90a9-262d-4464-b4a7-2c18fa38e787",
   "metadata": {},
   "outputs": [],
   "source": [
    "#GCP (cons)\n",
    "code_list_gcp_cons = list(df_gcp_cons.code.dropna().unique())\n",
    "for i in range(len(code_list_gcp_cons)):\n",
    "    COUNTRY_DATA_SAVER(df_gcp_cons,code_list_gcp_cons[i], file_ending=\"GCP_consupmption.csv\", transpose=False)\n",
    "print(\"GCP (cons) country data saved\")"
   ]
  },
  {
   "cell_type": "code",
   "execution_count": null,
   "id": "07c7c9c3-8220-4f8d-a23d-225140271d80",
   "metadata": {},
   "outputs": [],
   "source": [
    "#CAIT\n",
    "code_list_cait = list(df_cait.code.dropna().unique())\n",
    "for i in range(len(code_list_cait)):\n",
    "    try:\n",
    "        COUNTRY_DATA_SAVER(df_cait, code_list_cait[i], file_ending=\"CAIT.csv\", transpose=False)\n",
    "    except:\n",
    "        print(code_list_cait[i] + \" codes not saved\")\n",
    "print(\"CAIT country data saved\")"
   ]
  },
  {
   "cell_type": "code",
   "execution_count": null,
   "id": "7685d4d9-efc1-4bb5-a3ea-719124303a1c",
   "metadata": {},
   "outputs": [],
   "source": [
    "#EDGAR\n",
    "code_list_edgar = list(df_edgar.code.dropna().unique())\n",
    "for i in range(len(code_list_edgar)):\n",
    "    try:\n",
    "        COUNTRY_DATA_SAVER(df_edgar, code_list_edgar[i], file_ending=\"EDGAR.csv\", transpose=False)\n",
    "    except:\n",
    "        print(code_list_edgar[i] + \" codes not saved\")\n",
    "print(\"EDGAR country data saved\")"
   ]
  },
  {
   "cell_type": "code",
   "execution_count": null,
   "id": "d415364e-de85-4094-baa9-194c82bd9724",
   "metadata": {},
   "outputs": [],
   "source": [
    "#PRIMAP\n",
    "code_list_primap = list(df_primap.code.dropna().unique())\n",
    "for i in range(len(code_list_primap)):\n",
    "    try:\n",
    "        COUNTRY_DATA_SAVER(df_primap, code_list_primap[i], file_ending=\"PRIMAP-hist.csv\", transpose=False)\n",
    "    except:\n",
    "        print(code_list_primap[i] + \" codes not saved\")\n",
    "print(\"PRIMAP-hist country data saved\")"
   ]
  },
  {
   "cell_type": "code",
   "execution_count": null,
   "id": "cc6b2da3-7569-4124-87e2-26bcb1ae24da",
   "metadata": {},
   "outputs": [],
   "source": [
    "#Minx\n",
    "code_list_minx = list(df_minx.code.dropna().unique())\n",
    "for i in range(len(code_list_minx)):\n",
    "    try:\n",
    "        COUNTRY_DATA_SAVER(df_minx, code_list_minx[i], file_ending=\"Minx_2021.csv\", transpose=False)\n",
    "    except:\n",
    "        print(code_list_minx[i] + \" codes not saved\")\n",
    "print(\"Minx_2021 country data saved\")"
   ]
  },
  {
   "cell_type": "code",
   "execution_count": null,
   "id": "d34b9eff-ea6f-49f3-a7fe-f6be62a15d0c",
   "metadata": {},
   "outputs": [],
   "source": []
  },
  {
   "cell_type": "code",
   "execution_count": null,
   "id": "f3165631-32d2-4918-a780-2ed8bebff23b",
   "metadata": {},
   "outputs": [],
   "source": []
  }
 ],
 "metadata": {
  "kernelspec": {
   "display_name": "Python 3 (ipykernel)",
   "language": "python",
   "name": "python3"
  },
  "language_info": {
   "codemirror_mode": {
    "name": "ipython",
    "version": 3
   },
   "file_extension": ".py",
   "mimetype": "text/x-python",
   "name": "python",
   "nbconvert_exporter": "python",
   "pygments_lexer": "ipython3",
   "version": "3.8.10"
  }
 },
 "nbformat": 4,
 "nbformat_minor": 5
}
