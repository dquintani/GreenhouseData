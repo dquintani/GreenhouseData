{
 "cells": [
  {
   "cell_type": "code",
   "execution_count": 4,
   "id": "f3a61957-893a-4b9f-84b5-07488913219f",
   "metadata": {},
   "outputs": [],
   "source": [
    "import random\n",
    "import os\n",
    "import glob"
   ]
  },
  {
   "cell_type": "code",
   "execution_count": 33,
   "id": "17311bc9-2c07-4ff2-8d92-d1e461a9d655",
   "metadata": {},
   "outputs": [
    {
     "data": {
      "text/plain": [
       "'SRB_Serbia'"
      ]
     },
     "execution_count": 33,
     "metadata": {},
     "output_type": "execute_result"
    }
   ],
   "source": [
    "random_country_dir = random.choice(os.listdir(\"../country_data\"))\n",
    "random_country_dir"
   ]
  },
  {
   "cell_type": "code",
   "execution_count": 35,
   "id": "c104dc81-127d-4974-a49d-2be9ea5620ac",
   "metadata": {},
   "outputs": [
    {
     "data": {
      "text/plain": [
       "['../country_data/SRB_Serbia/figures/SRB_BP_1.png',\n",
       " '../country_data/SRB_Serbia/figures/SRB_EIA_1.png',\n",
       " '../country_data/SRB_Serbia/figures/SRB_CAIT_gases_1.png',\n",
       " '../country_data/SRB_Serbia/figures/SRB_GCP_1.png',\n",
       " '../country_data/SRB_Serbia/figures/SRB_UNFCCC_NAI_1.png',\n",
       " '../country_data/SRB_Serbia/figures/SRB_CO2_totals.png',\n",
       " '../country_data/SRB_Serbia/figures/SRB_CDIAC_1.png',\n",
       " '../country_data/SRB_Serbia/figures/SRB_IEA_1.png']"
      ]
     },
     "execution_count": 35,
     "metadata": {},
     "output_type": "execute_result"
    }
   ],
   "source": [
    "figures = glob.glob(f\"../country_data/{random_country_dir}/figures/*.png\", recursive = True)\n",
    "figures"
   ]
  },
  {
   "cell_type": "code",
   "execution_count": 36,
   "id": "cd783c8d-8e60-4f7d-b3f6-e5d87a74c21b",
   "metadata": {},
   "outputs": [
    {
     "data": {
      "text/plain": [
       "'../country_data/SRB_Serbia/figures/SRB_GCP_1.png'"
      ]
     },
     "execution_count": 36,
     "metadata": {},
     "output_type": "execute_result"
    }
   ],
   "source": [
    "random_fig = random.choice(figures)\n",
    "random_fig"
   ]
  },
  {
   "cell_type": "code",
   "execution_count": 37,
   "id": "e4619349-f0b8-4837-9e85-db90aa43d83c",
   "metadata": {},
   "outputs": [
    {
     "name": "stdout",
     "output_type": "stream",
     "text": [
      "random_fig path imported\n"
     ]
    }
   ],
   "source": [
    "print(\"random_fig path imported\")"
   ]
  }
 ],
 "metadata": {
  "kernelspec": {
   "display_name": "Python 3 (ipykernel)",
   "language": "python",
   "name": "python3"
  },
  "language_info": {
   "codemirror_mode": {
    "name": "ipython",
    "version": 3
   },
   "file_extension": ".py",
   "mimetype": "text/x-python",
   "name": "python",
   "nbconvert_exporter": "python",
   "pygments_lexer": "ipython3",
   "version": "3.8.10"
  }
 },
 "nbformat": 4,
 "nbformat_minor": 5
}
