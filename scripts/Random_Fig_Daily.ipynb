{
 "cells": [
  {
   "cell_type": "code",
   "execution_count": 1,
   "id": "f3a61957-893a-4b9f-84b5-07488913219f",
   "metadata": {
    "execution": {
     "iopub.execute_input": "2022-04-21T04:00:54.415756Z",
     "iopub.status.busy": "2022-04-21T04:00:54.415384Z",
     "iopub.status.idle": "2022-04-21T04:00:54.422470Z",
     "shell.execute_reply": "2022-04-21T04:00:54.421985Z"
    },
    "tags": []
   },
   "outputs": [],
   "source": [
    "import random\n",
    "import os\n",
    "import glob\n",
    "import shutil"
   ]
  },
  {
   "cell_type": "code",
   "execution_count": 2,
   "id": "17311bc9-2c07-4ff2-8d92-d1e461a9d655",
   "metadata": {
    "execution": {
     "iopub.execute_input": "2022-04-21T04:00:54.425207Z",
     "iopub.status.busy": "2022-04-21T04:00:54.424798Z",
     "iopub.status.idle": "2022-04-21T04:00:54.433663Z",
     "shell.execute_reply": "2022-04-21T04:00:54.433157Z"
    },
    "tags": []
   },
   "outputs": [
    {
     "data": {
      "text/plain": [
       "'VUT_Vanuatu'"
      ]
     },
     "execution_count": 2,
     "metadata": {},
     "output_type": "execute_result"
    }
   ],
   "source": [
    "random_country_dir = random.choice(os.listdir(\"../country_data\"))\n",
    "random_country_dir"
   ]
  },
  {
   "cell_type": "code",
   "execution_count": 3,
   "id": "c104dc81-127d-4974-a49d-2be9ea5620ac",
   "metadata": {
    "execution": {
     "iopub.execute_input": "2022-04-21T04:00:54.436860Z",
     "iopub.status.busy": "2022-04-21T04:00:54.436601Z",
     "iopub.status.idle": "2022-04-21T04:00:54.441122Z",
     "shell.execute_reply": "2022-04-21T04:00:54.440617Z"
    },
    "tags": []
   },
   "outputs": [
    {
     "data": {
      "text/plain": [
       "['../country_data/VUT_Vanuatu/figures/VUT_Minx_top20_subsectors.png',\n",
       " '../country_data/VUT_Vanuatu/figures/VUT_EIA_1.png',\n",
       " '../country_data/VUT_Vanuatu/figures/VUT_CO2_totals.png',\n",
       " '../country_data/VUT_Vanuatu/figures/VUT_CDIAC_1.png',\n",
       " '../country_data/VUT_Vanuatu/figures/VUT_GCP_1.png',\n",
       " '../country_data/VUT_Vanuatu/figures/VUT_CAIT_gases_1.png',\n",
       " '../country_data/VUT_Vanuatu/figures/VUT_UNFCCC_NAI_1.png']"
      ]
     },
     "execution_count": 3,
     "metadata": {},
     "output_type": "execute_result"
    }
   ],
   "source": [
    "figures = glob.glob(f\"../country_data/{random_country_dir}/figures/*.png\", recursive = True)\n",
    "figures"
   ]
  },
  {
   "cell_type": "code",
   "execution_count": 4,
   "id": "cd783c8d-8e60-4f7d-b3f6-e5d87a74c21b",
   "metadata": {
    "execution": {
     "iopub.execute_input": "2022-04-21T04:00:54.443510Z",
     "iopub.status.busy": "2022-04-21T04:00:54.443348Z",
     "iopub.status.idle": "2022-04-21T04:00:54.446943Z",
     "shell.execute_reply": "2022-04-21T04:00:54.446422Z"
    },
    "tags": []
   },
   "outputs": [
    {
     "data": {
      "text/plain": [
       "'../country_data/VUT_Vanuatu/figures/VUT_EIA_1.png'"
      ]
     },
     "execution_count": 4,
     "metadata": {},
     "output_type": "execute_result"
    }
   ],
   "source": [
    "random_fig = random.choice(figures)\n",
    "random_fig"
   ]
  },
  {
   "cell_type": "code",
   "execution_count": 5,
   "id": "5e285f92-963d-41a3-be98-9d59cca56a3d",
   "metadata": {
    "execution": {
     "iopub.execute_input": "2022-04-21T04:00:54.449918Z",
     "iopub.status.busy": "2022-04-21T04:00:54.449656Z",
     "iopub.status.idle": "2022-04-21T04:00:54.454110Z",
     "shell.execute_reply": "2022-04-21T04:00:54.453595Z"
    }
   },
   "outputs": [
    {
     "data": {
      "text/plain": [
       "'../supplemental/random_daily_fig.png'"
      ]
     },
     "execution_count": 5,
     "metadata": {},
     "output_type": "execute_result"
    }
   ],
   "source": [
    "shutil.copyfile(random_fig, \"../supplemental/random_daily_fig.png\",)"
   ]
  },
  {
   "cell_type": "code",
   "execution_count": 6,
   "id": "e4619349-f0b8-4837-9e85-db90aa43d83c",
   "metadata": {
    "execution": {
     "iopub.execute_input": "2022-04-21T04:00:54.456384Z",
     "iopub.status.busy": "2022-04-21T04:00:54.456125Z",
     "iopub.status.idle": "2022-04-21T04:00:54.459314Z",
     "shell.execute_reply": "2022-04-21T04:00:54.458769Z"
    },
    "tags": []
   },
   "outputs": [
    {
     "name": "stdout",
     "output_type": "stream",
     "text": [
      "random_fig path imported\n"
     ]
    }
   ],
   "source": [
    "print(\"random_fig path imported\")"
   ]
  },
  {
   "cell_type": "code",
   "execution_count": null,
   "id": "06c0a75f-4bbb-4fa5-ad86-aabe72877807",
   "metadata": {},
   "outputs": [],
   "source": []
  }
 ],
 "metadata": {
  "kernelspec": {
   "display_name": "Python 3 (ipykernel)",
   "language": "python",
   "name": "python3"
  },
  "language_info": {
   "codemirror_mode": {
    "name": "ipython",
    "version": 3
   },
   "file_extension": ".py",
   "mimetype": "text/x-python",
   "name": "python",
   "nbconvert_exporter": "python",
   "pygments_lexer": "ipython3",
   "version": "3.9.12"
  }
 },
 "nbformat": 4,
 "nbformat_minor": 5
}
