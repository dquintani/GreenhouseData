{
 "cells": [
  {
   "cell_type": "code",
   "execution_count": 1,
   "id": "f3a61957-893a-4b9f-84b5-07488913219f",
   "metadata": {
    "execution": {
     "iopub.execute_input": "2022-05-05T15:23:17.135374Z",
     "iopub.status.busy": "2022-05-05T15:23:17.135016Z",
     "iopub.status.idle": "2022-05-05T15:23:17.143489Z",
     "shell.execute_reply": "2022-05-05T15:23:17.142795Z"
    },
    "tags": []
   },
   "outputs": [],
   "source": [
    "import random\n",
    "import os\n",
    "import glob\n",
    "import shutil"
   ]
  },
  {
   "cell_type": "code",
   "execution_count": 2,
   "id": "17311bc9-2c07-4ff2-8d92-d1e461a9d655",
   "metadata": {
    "execution": {
     "iopub.execute_input": "2022-05-05T15:23:17.148700Z",
     "iopub.status.busy": "2022-05-05T15:23:17.148092Z",
     "iopub.status.idle": "2022-05-05T15:23:17.160972Z",
     "shell.execute_reply": "2022-05-05T15:23:17.160345Z"
    },
    "tags": []
   },
   "outputs": [
    {
     "data": {
      "text/plain": [
       "'GRD_Grenada'"
      ]
     },
     "execution_count": 2,
     "metadata": {},
     "output_type": "execute_result"
    }
   ],
   "source": [
    "random_country_dir = random.choice(os.listdir(\"../country_data\"))\n",
    "random_country_dir"
   ]
  },
  {
   "cell_type": "code",
   "execution_count": 3,
   "id": "c104dc81-127d-4974-a49d-2be9ea5620ac",
   "metadata": {
    "execution": {
     "iopub.execute_input": "2022-05-05T15:23:17.164761Z",
     "iopub.status.busy": "2022-05-05T15:23:17.164348Z",
     "iopub.status.idle": "2022-05-05T15:23:17.169505Z",
     "shell.execute_reply": "2022-05-05T15:23:17.168905Z"
    },
    "tags": []
   },
   "outputs": [
    {
     "data": {
      "text/plain": [
       "['../country_data/GRD_Grenada/figures/GRD_GCP_Country_Highlight.png',\n",
       " '../country_data/GRD_Grenada/figures/GRD_CAIT_gases_1.png',\n",
       " '../country_data/GRD_Grenada/figures/GRD_Minx_top20_subsectors.png',\n",
       " '../country_data/GRD_Grenada/figures/GRD_CAIT_lucf_vs_nolucf.png',\n",
       " '../country_data/GRD_Grenada/figures/GRD_CO2_totals.png',\n",
       " '../country_data/GRD_Grenada/figures/GRD_CDIAC_1.png',\n",
       " '../country_data/GRD_Grenada/figures/GRD_UNFCCC_NAI_1.png',\n",
       " '../country_data/GRD_Grenada/figures/GRD_GCP_1.png',\n",
       " '../country_data/GRD_Grenada/figures/GRD_EIA_1.png']"
      ]
     },
     "execution_count": 3,
     "metadata": {},
     "output_type": "execute_result"
    }
   ],
   "source": [
    "figures = glob.glob(f\"../country_data/{random_country_dir}/figures/*.png\", recursive = True)\n",
    "figures"
   ]
  },
  {
   "cell_type": "code",
   "execution_count": 4,
   "id": "cd783c8d-8e60-4f7d-b3f6-e5d87a74c21b",
   "metadata": {
    "execution": {
     "iopub.execute_input": "2022-05-05T15:23:17.173152Z",
     "iopub.status.busy": "2022-05-05T15:23:17.172814Z",
     "iopub.status.idle": "2022-05-05T15:23:17.177073Z",
     "shell.execute_reply": "2022-05-05T15:23:17.176647Z"
    },
    "tags": []
   },
   "outputs": [
    {
     "data": {
      "text/plain": [
       "'../country_data/GRD_Grenada/figures/GRD_CO2_totals.png'"
      ]
     },
     "execution_count": 4,
     "metadata": {},
     "output_type": "execute_result"
    }
   ],
   "source": [
    "random_fig = random.choice(figures)\n",
    "random_fig"
   ]
  },
  {
   "cell_type": "code",
   "execution_count": 5,
   "id": "5e285f92-963d-41a3-be98-9d59cca56a3d",
   "metadata": {
    "execution": {
     "iopub.execute_input": "2022-05-05T15:23:17.179674Z",
     "iopub.status.busy": "2022-05-05T15:23:17.179321Z",
     "iopub.status.idle": "2022-05-05T15:23:17.184989Z",
     "shell.execute_reply": "2022-05-05T15:23:17.184383Z"
    }
   },
   "outputs": [
    {
     "data": {
      "text/plain": [
       "'../supplemental/random_daily_fig.png'"
      ]
     },
     "execution_count": 5,
     "metadata": {},
     "output_type": "execute_result"
    }
   ],
   "source": [
    "shutil.copyfile(random_fig, \"../supplemental/random_daily_fig.png\",)"
   ]
  },
  {
   "cell_type": "code",
   "execution_count": 6,
   "id": "e4619349-f0b8-4837-9e85-db90aa43d83c",
   "metadata": {
    "execution": {
     "iopub.execute_input": "2022-05-05T15:23:17.188113Z",
     "iopub.status.busy": "2022-05-05T15:23:17.187713Z",
     "iopub.status.idle": "2022-05-05T15:23:17.191368Z",
     "shell.execute_reply": "2022-05-05T15:23:17.190756Z"
    },
    "tags": []
   },
   "outputs": [
    {
     "name": "stdout",
     "output_type": "stream",
     "text": [
      "random_fig path imported\n"
     ]
    }
   ],
   "source": [
    "print(\"random_fig path imported\")"
   ]
  },
  {
   "cell_type": "code",
   "execution_count": null,
   "id": "06c0a75f-4bbb-4fa5-ad86-aabe72877807",
   "metadata": {},
   "outputs": [],
   "source": []
  }
 ],
 "metadata": {
  "kernelspec": {
   "display_name": "Python 3 (ipykernel)",
   "language": "python",
   "name": "python3"
  },
  "language_info": {
   "codemirror_mode": {
    "name": "ipython",
    "version": 3
   },
   "file_extension": ".py",
   "mimetype": "text/x-python",
   "name": "python",
   "nbconvert_exporter": "python",
   "pygments_lexer": "ipython3",
   "version": "3.9.12"
  }
 },
 "nbformat": 4,
 "nbformat_minor": 5
}
