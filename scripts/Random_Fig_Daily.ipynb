{
 "cells": [
  {
   "cell_type": "code",
   "execution_count": 1,
   "id": "f3a61957-893a-4b9f-84b5-07488913219f",
   "metadata": {
    "execution": {
     "iopub.execute_input": "2022-04-01T16:01:30.850367Z",
     "iopub.status.busy": "2022-04-01T16:01:30.850127Z",
     "iopub.status.idle": "2022-04-01T16:01:30.858005Z",
     "shell.execute_reply": "2022-04-01T16:01:30.857357Z"
    }
   },
   "outputs": [],
   "source": [
    "import random\n",
    "import os\n",
    "import glob"
   ]
  },
  {
   "cell_type": "code",
   "execution_count": 2,
   "id": "17311bc9-2c07-4ff2-8d92-d1e461a9d655",
   "metadata": {
    "execution": {
     "iopub.execute_input": "2022-04-01T16:01:30.861245Z",
     "iopub.status.busy": "2022-04-01T16:01:30.860841Z",
     "iopub.status.idle": "2022-04-01T16:01:30.871167Z",
     "shell.execute_reply": "2022-04-01T16:01:30.870577Z"
    }
   },
   "outputs": [
    {
     "data": {
      "text/plain": [
       "'ATG_Antigua and Barbuda'"
      ]
     },
     "execution_count": 2,
     "metadata": {},
     "output_type": "execute_result"
    }
   ],
   "source": [
    "random_country_dir = random.choice(os.listdir(\"../country_data\"))\n",
    "random_country_dir"
   ]
  },
  {
   "cell_type": "code",
   "execution_count": 3,
   "id": "c104dc81-127d-4974-a49d-2be9ea5620ac",
   "metadata": {
    "execution": {
     "iopub.execute_input": "2022-04-01T16:01:30.874598Z",
     "iopub.status.busy": "2022-04-01T16:01:30.874283Z",
     "iopub.status.idle": "2022-04-01T16:01:30.879373Z",
     "shell.execute_reply": "2022-04-01T16:01:30.878803Z"
    }
   },
   "outputs": [
    {
     "data": {
      "text/plain": [
       "['../country_data/ATG_Antigua and Barbuda/figures/ATG_GCP_1.png',\n",
       " '../country_data/ATG_Antigua and Barbuda/figures/ATG_Minx_top20_subsectors.png',\n",
       " '../country_data/ATG_Antigua and Barbuda/figures/ATG_CDIAC_1.png',\n",
       " '../country_data/ATG_Antigua and Barbuda/figures/ATG_CO2_totals.png',\n",
       " '../country_data/ATG_Antigua and Barbuda/figures/ATG_CAIT_gases_1.png',\n",
       " '../country_data/ATG_Antigua and Barbuda/figures/ATG_EIA_1.png',\n",
       " '../country_data/ATG_Antigua and Barbuda/figures/ATG_UNFCCC_NAI_1.png']"
      ]
     },
     "execution_count": 3,
     "metadata": {},
     "output_type": "execute_result"
    }
   ],
   "source": [
    "figures = glob.glob(f\"../country_data/{random_country_dir}/figures/*.png\", recursive = True)\n",
    "figures"
   ]
  },
  {
   "cell_type": "code",
   "execution_count": 4,
   "id": "cd783c8d-8e60-4f7d-b3f6-e5d87a74c21b",
   "metadata": {
    "execution": {
     "iopub.execute_input": "2022-04-01T16:01:30.882691Z",
     "iopub.status.busy": "2022-04-01T16:01:30.882295Z",
     "iopub.status.idle": "2022-04-01T16:01:30.886622Z",
     "shell.execute_reply": "2022-04-01T16:01:30.886054Z"
    }
   },
   "outputs": [
    {
     "data": {
      "text/plain": [
       "'../country_data/ATG_Antigua and Barbuda/figures/ATG_Minx_top20_subsectors.png'"
      ]
     },
     "execution_count": 4,
     "metadata": {},
     "output_type": "execute_result"
    }
   ],
   "source": [
    "random_fig = random.choice(figures)\n",
    "random_fig"
   ]
  },
  {
   "cell_type": "code",
   "execution_count": 5,
   "id": "e4619349-f0b8-4837-9e85-db90aa43d83c",
   "metadata": {
    "execution": {
     "iopub.execute_input": "2022-04-01T16:01:30.890399Z",
     "iopub.status.busy": "2022-04-01T16:01:30.890001Z",
     "iopub.status.idle": "2022-04-01T16:01:30.893755Z",
     "shell.execute_reply": "2022-04-01T16:01:30.893165Z"
    }
   },
   "outputs": [
    {
     "name": "stdout",
     "output_type": "stream",
     "text": [
      "random_fig path imported\n"
     ]
    }
   ],
   "source": [
    "print(\"random_fig path imported\")"
   ]
  }
 ],
 "metadata": {
  "kernelspec": {
   "display_name": "Python 3 (ipykernel)",
   "language": "python",
   "name": "python3"
  },
  "language_info": {
   "codemirror_mode": {
    "name": "ipython",
    "version": 3
   },
   "file_extension": ".py",
   "mimetype": "text/x-python",
   "name": "python",
   "nbconvert_exporter": "python",
   "pygments_lexer": "ipython3",
   "version": "3.9.10"
  }
 },
 "nbformat": 4,
 "nbformat_minor": 5
}
