{
 "cells": [
  {
   "cell_type": "code",
   "execution_count": 1,
   "id": "f3a61957-893a-4b9f-84b5-07488913219f",
   "metadata": {
    "execution": {
     "iopub.execute_input": "2022-04-14T15:23:04.914215Z",
     "iopub.status.busy": "2022-04-14T15:23:04.913828Z",
     "iopub.status.idle": "2022-04-14T15:23:04.921586Z",
     "shell.execute_reply": "2022-04-14T15:23:04.920828Z"
    },
    "tags": []
   },
   "outputs": [],
   "source": [
    "import random\n",
    "import os\n",
    "import glob\n",
    "import shutil"
   ]
  },
  {
   "cell_type": "code",
   "execution_count": 2,
   "id": "17311bc9-2c07-4ff2-8d92-d1e461a9d655",
   "metadata": {
    "execution": {
     "iopub.execute_input": "2022-04-14T15:23:04.924323Z",
     "iopub.status.busy": "2022-04-14T15:23:04.924154Z",
     "iopub.status.idle": "2022-04-14T15:23:04.935139Z",
     "shell.execute_reply": "2022-04-14T15:23:04.934360Z"
    },
    "tags": []
   },
   "outputs": [
    {
     "data": {
      "text/plain": [
       "'SAU_Saudi Arabia'"
      ]
     },
     "execution_count": 2,
     "metadata": {},
     "output_type": "execute_result"
    }
   ],
   "source": [
    "random_country_dir = random.choice(os.listdir(\"../country_data\"))\n",
    "random_country_dir"
   ]
  },
  {
   "cell_type": "code",
   "execution_count": 3,
   "id": "c104dc81-127d-4974-a49d-2be9ea5620ac",
   "metadata": {
    "execution": {
     "iopub.execute_input": "2022-04-14T15:23:04.938992Z",
     "iopub.status.busy": "2022-04-14T15:23:04.938797Z",
     "iopub.status.idle": "2022-04-14T15:23:04.943991Z",
     "shell.execute_reply": "2022-04-14T15:23:04.943394Z"
    },
    "tags": []
   },
   "outputs": [
    {
     "data": {
      "text/plain": [
       "['../country_data/SAU_Saudi Arabia/figures/SAU_CAIT_gases_1.png',\n",
       " '../country_data/SAU_Saudi Arabia/figures/SAU_CDIAC_1.png',\n",
       " '../country_data/SAU_Saudi Arabia/figures/SAU_GCP_1.png',\n",
       " '../country_data/SAU_Saudi Arabia/figures/SAU_IEA_1.png',\n",
       " '../country_data/SAU_Saudi Arabia/figures/SAU_CO2_totals.png',\n",
       " '../country_data/SAU_Saudi Arabia/figures/SAU_EIA_1.png',\n",
       " '../country_data/SAU_Saudi Arabia/figures/SAU_BP_1.png',\n",
       " '../country_data/SAU_Saudi Arabia/figures/SAU_UNFCCC_NAI_1.png',\n",
       " '../country_data/SAU_Saudi Arabia/figures/SAU_Minx_top20_subsectors.png']"
      ]
     },
     "execution_count": 3,
     "metadata": {},
     "output_type": "execute_result"
    }
   ],
   "source": [
    "figures = glob.glob(f\"../country_data/{random_country_dir}/figures/*.png\", recursive = True)\n",
    "figures"
   ]
  },
  {
   "cell_type": "code",
   "execution_count": 4,
   "id": "cd783c8d-8e60-4f7d-b3f6-e5d87a74c21b",
   "metadata": {
    "execution": {
     "iopub.execute_input": "2022-04-14T15:23:04.946626Z",
     "iopub.status.busy": "2022-04-14T15:23:04.946340Z",
     "iopub.status.idle": "2022-04-14T15:23:04.950883Z",
     "shell.execute_reply": "2022-04-14T15:23:04.950049Z"
    },
    "tags": []
   },
   "outputs": [
    {
     "data": {
      "text/plain": [
       "'../country_data/SAU_Saudi Arabia/figures/SAU_UNFCCC_NAI_1.png'"
      ]
     },
     "execution_count": 4,
     "metadata": {},
     "output_type": "execute_result"
    }
   ],
   "source": [
    "random_fig = random.choice(figures)\n",
    "random_fig"
   ]
  },
  {
   "cell_type": "code",
   "execution_count": 5,
   "id": "5e285f92-963d-41a3-be98-9d59cca56a3d",
   "metadata": {
    "execution": {
     "iopub.execute_input": "2022-04-14T15:23:04.954352Z",
     "iopub.status.busy": "2022-04-14T15:23:04.954128Z",
     "iopub.status.idle": "2022-04-14T15:23:04.959682Z",
     "shell.execute_reply": "2022-04-14T15:23:04.959016Z"
    }
   },
   "outputs": [
    {
     "data": {
      "text/plain": [
       "'../supplemental/random_daily_fig.png'"
      ]
     },
     "execution_count": 5,
     "metadata": {},
     "output_type": "execute_result"
    }
   ],
   "source": [
    "shutil.copyfile(random_fig, \"../supplemental/random_daily_fig.png\",)"
   ]
  },
  {
   "cell_type": "code",
   "execution_count": 6,
   "id": "e4619349-f0b8-4837-9e85-db90aa43d83c",
   "metadata": {
    "execution": {
     "iopub.execute_input": "2022-04-14T15:23:04.962408Z",
     "iopub.status.busy": "2022-04-14T15:23:04.962214Z",
     "iopub.status.idle": "2022-04-14T15:23:04.966101Z",
     "shell.execute_reply": "2022-04-14T15:23:04.965443Z"
    },
    "tags": []
   },
   "outputs": [
    {
     "name": "stdout",
     "output_type": "stream",
     "text": [
      "random_fig path imported\n"
     ]
    }
   ],
   "source": [
    "print(\"random_fig path imported\")"
   ]
  },
  {
   "cell_type": "code",
   "execution_count": null,
   "id": "06c0a75f-4bbb-4fa5-ad86-aabe72877807",
   "metadata": {},
   "outputs": [],
   "source": []
  }
 ],
 "metadata": {
  "kernelspec": {
   "display_name": "Python 3 (ipykernel)",
   "language": "python",
   "name": "python3"
  },
  "language_info": {
   "codemirror_mode": {
    "name": "ipython",
    "version": 3
   },
   "file_extension": ".py",
   "mimetype": "text/x-python",
   "name": "python",
   "nbconvert_exporter": "python",
   "pygments_lexer": "ipython3",
   "version": "3.9.12"
  }
 },
 "nbformat": 4,
 "nbformat_minor": 5
}
