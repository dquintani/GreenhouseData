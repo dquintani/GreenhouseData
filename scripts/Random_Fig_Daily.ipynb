{
 "cells": [
  {
   "cell_type": "code",
   "execution_count": 1,
   "id": "f3a61957-893a-4b9f-84b5-07488913219f",
   "metadata": {
    "execution": {
     "iopub.execute_input": "2022-04-20T18:26:44.134347Z",
     "iopub.status.busy": "2022-04-20T18:26:44.133756Z",
     "iopub.status.idle": "2022-04-20T18:26:44.142899Z",
     "shell.execute_reply": "2022-04-20T18:26:44.142346Z"
    },
    "tags": []
   },
   "outputs": [],
   "source": [
    "import random\n",
    "import os\n",
    "import glob\n",
    "import shutil"
   ]
  },
  {
   "cell_type": "code",
   "execution_count": 2,
   "id": "17311bc9-2c07-4ff2-8d92-d1e461a9d655",
   "metadata": {
    "execution": {
     "iopub.execute_input": "2022-04-20T18:26:44.145995Z",
     "iopub.status.busy": "2022-04-20T18:26:44.145595Z",
     "iopub.status.idle": "2022-04-20T18:26:44.158017Z",
     "shell.execute_reply": "2022-04-20T18:26:44.157462Z"
    },
    "tags": []
   },
   "outputs": [
    {
     "data": {
      "text/plain": [
       "'BEL_Belgium'"
      ]
     },
     "execution_count": 2,
     "metadata": {},
     "output_type": "execute_result"
    }
   ],
   "source": [
    "random_country_dir = random.choice(os.listdir(\"../country_data\"))\n",
    "random_country_dir"
   ]
  },
  {
   "cell_type": "code",
   "execution_count": 3,
   "id": "c104dc81-127d-4974-a49d-2be9ea5620ac",
   "metadata": {
    "execution": {
     "iopub.execute_input": "2022-04-20T18:26:44.161238Z",
     "iopub.status.busy": "2022-04-20T18:26:44.160820Z",
     "iopub.status.idle": "2022-04-20T18:26:44.168082Z",
     "shell.execute_reply": "2022-04-20T18:26:44.167252Z"
    },
    "tags": []
   },
   "outputs": [
    {
     "data": {
      "text/plain": [
       "['../country_data/BEL_Belgium/figures/BEL_UNFCCC_AI_1.png',\n",
       " '../country_data/BEL_Belgium/figures/BEL_IEA_1.png',\n",
       " '../country_data/BEL_Belgium/figures/BEL_Minx_top20_subsectors.png',\n",
       " '../country_data/BEL_Belgium/figures/BEL_CAIT_gases_1.png',\n",
       " '../country_data/BEL_Belgium/figures/BEL_EIA_1.png',\n",
       " '../country_data/BEL_Belgium/figures/BEL_GCP_1.png',\n",
       " '../country_data/BEL_Belgium/figures/BEL_BP_1.png',\n",
       " '../country_data/BEL_Belgium/figures/BEL_CO2_totals.png',\n",
       " '../country_data/BEL_Belgium/figures/BEL_CDIAC_1.png']"
      ]
     },
     "execution_count": 3,
     "metadata": {},
     "output_type": "execute_result"
    }
   ],
   "source": [
    "figures = glob.glob(f\"../country_data/{random_country_dir}/figures/*.png\", recursive = True)\n",
    "figures"
   ]
  },
  {
   "cell_type": "code",
   "execution_count": 4,
   "id": "cd783c8d-8e60-4f7d-b3f6-e5d87a74c21b",
   "metadata": {
    "execution": {
     "iopub.execute_input": "2022-04-20T18:26:44.170945Z",
     "iopub.status.busy": "2022-04-20T18:26:44.170616Z",
     "iopub.status.idle": "2022-04-20T18:26:44.174760Z",
     "shell.execute_reply": "2022-04-20T18:26:44.174207Z"
    },
    "tags": []
   },
   "outputs": [
    {
     "data": {
      "text/plain": [
       "'../country_data/BEL_Belgium/figures/BEL_GCP_1.png'"
      ]
     },
     "execution_count": 4,
     "metadata": {},
     "output_type": "execute_result"
    }
   ],
   "source": [
    "random_fig = random.choice(figures)\n",
    "random_fig"
   ]
  },
  {
   "cell_type": "code",
   "execution_count": 5,
   "id": "5e285f92-963d-41a3-be98-9d59cca56a3d",
   "metadata": {
    "execution": {
     "iopub.execute_input": "2022-04-20T18:26:44.177634Z",
     "iopub.status.busy": "2022-04-20T18:26:44.177320Z",
     "iopub.status.idle": "2022-04-20T18:26:44.182580Z",
     "shell.execute_reply": "2022-04-20T18:26:44.181977Z"
    }
   },
   "outputs": [
    {
     "data": {
      "text/plain": [
       "'../supplemental/random_daily_fig.png'"
      ]
     },
     "execution_count": 5,
     "metadata": {},
     "output_type": "execute_result"
    }
   ],
   "source": [
    "shutil.copyfile(random_fig, \"../supplemental/random_daily_fig.png\",)"
   ]
  },
  {
   "cell_type": "code",
   "execution_count": 6,
   "id": "e4619349-f0b8-4837-9e85-db90aa43d83c",
   "metadata": {
    "execution": {
     "iopub.execute_input": "2022-04-20T18:26:44.185440Z",
     "iopub.status.busy": "2022-04-20T18:26:44.184989Z",
     "iopub.status.idle": "2022-04-20T18:26:44.188656Z",
     "shell.execute_reply": "2022-04-20T18:26:44.188013Z"
    },
    "tags": []
   },
   "outputs": [
    {
     "name": "stdout",
     "output_type": "stream",
     "text": [
      "random_fig path imported\n"
     ]
    }
   ],
   "source": [
    "print(\"random_fig path imported\")"
   ]
  },
  {
   "cell_type": "code",
   "execution_count": null,
   "id": "06c0a75f-4bbb-4fa5-ad86-aabe72877807",
   "metadata": {},
   "outputs": [],
   "source": []
  }
 ],
 "metadata": {
  "kernelspec": {
   "display_name": "Python 3 (ipykernel)",
   "language": "python",
   "name": "python3"
  },
  "language_info": {
   "codemirror_mode": {
    "name": "ipython",
    "version": 3
   },
   "file_extension": ".py",
   "mimetype": "text/x-python",
   "name": "python",
   "nbconvert_exporter": "python",
   "pygments_lexer": "ipython3",
   "version": "3.9.12"
  }
 },
 "nbformat": 4,
 "nbformat_minor": 5
}
