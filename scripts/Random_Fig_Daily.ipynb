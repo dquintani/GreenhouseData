{
 "cells": [
  {
   "cell_type": "code",
   "execution_count": 1,
   "id": "f3a61957-893a-4b9f-84b5-07488913219f",
   "metadata": {
    "execution": {
     "iopub.execute_input": "2022-05-02T06:27:37.629662Z",
     "iopub.status.busy": "2022-05-02T06:27:37.629244Z",
     "iopub.status.idle": "2022-05-02T06:27:37.636216Z",
     "shell.execute_reply": "2022-05-02T06:27:37.635749Z"
    },
    "tags": []
   },
   "outputs": [],
   "source": [
    "import random\n",
    "import os\n",
    "import glob\n",
    "import shutil"
   ]
  },
  {
   "cell_type": "code",
   "execution_count": 2,
   "id": "17311bc9-2c07-4ff2-8d92-d1e461a9d655",
   "metadata": {
    "execution": {
     "iopub.execute_input": "2022-05-02T06:27:37.638540Z",
     "iopub.status.busy": "2022-05-02T06:27:37.638395Z",
     "iopub.status.idle": "2022-05-02T06:27:37.646659Z",
     "shell.execute_reply": "2022-05-02T06:27:37.646198Z"
    },
    "tags": []
   },
   "outputs": [
    {
     "data": {
      "text/plain": [
       "'LVA_Latvia'"
      ]
     },
     "execution_count": 2,
     "metadata": {},
     "output_type": "execute_result"
    }
   ],
   "source": [
    "random_country_dir = random.choice(os.listdir(\"../country_data\"))\n",
    "random_country_dir"
   ]
  },
  {
   "cell_type": "code",
   "execution_count": 3,
   "id": "c104dc81-127d-4974-a49d-2be9ea5620ac",
   "metadata": {
    "execution": {
     "iopub.execute_input": "2022-05-02T06:27:37.649485Z",
     "iopub.status.busy": "2022-05-02T06:27:37.649343Z",
     "iopub.status.idle": "2022-05-02T06:27:37.653417Z",
     "shell.execute_reply": "2022-05-02T06:27:37.652956Z"
    },
    "tags": []
   },
   "outputs": [
    {
     "data": {
      "text/plain": [
       "['../country_data/LVA_Latvia/figures/LVA_GCP_Country_Highlight.png',\n",
       " '../country_data/LVA_Latvia/figures/LVA_IEA_1.png',\n",
       " '../country_data/LVA_Latvia/figures/LVA_EIA_1.png',\n",
       " '../country_data/LVA_Latvia/figures/LVA_GCP_1.png',\n",
       " '../country_data/LVA_Latvia/figures/LVA_BP_1.png',\n",
       " '../country_data/LVA_Latvia/figures/LVA_CAIT_gases_1.png',\n",
       " '../country_data/LVA_Latvia/figures/LVA_UNFCCC_AI_1.png',\n",
       " '../country_data/LVA_Latvia/figures/LVA_CO2_totals.png',\n",
       " '../country_data/LVA_Latvia/figures/LVA_Minx_top20_subsectors.png',\n",
       " '../country_data/LVA_Latvia/figures/LVA_CAIT_lucf_vs_nolucf.png',\n",
       " '../country_data/LVA_Latvia/figures/LVA_CDIAC_1.png']"
      ]
     },
     "execution_count": 3,
     "metadata": {},
     "output_type": "execute_result"
    }
   ],
   "source": [
    "figures = glob.glob(f\"../country_data/{random_country_dir}/figures/*.png\", recursive = True)\n",
    "figures"
   ]
  },
  {
   "cell_type": "code",
   "execution_count": 4,
   "id": "cd783c8d-8e60-4f7d-b3f6-e5d87a74c21b",
   "metadata": {
    "execution": {
     "iopub.execute_input": "2022-05-02T06:27:37.655767Z",
     "iopub.status.busy": "2022-05-02T06:27:37.655384Z",
     "iopub.status.idle": "2022-05-02T06:27:37.658961Z",
     "shell.execute_reply": "2022-05-02T06:27:37.658493Z"
    },
    "tags": []
   },
   "outputs": [
    {
     "data": {
      "text/plain": [
       "'../country_data/LVA_Latvia/figures/LVA_GCP_1.png'"
      ]
     },
     "execution_count": 4,
     "metadata": {},
     "output_type": "execute_result"
    }
   ],
   "source": [
    "random_fig = random.choice(figures)\n",
    "random_fig"
   ]
  },
  {
   "cell_type": "code",
   "execution_count": 5,
   "id": "5e285f92-963d-41a3-be98-9d59cca56a3d",
   "metadata": {
    "execution": {
     "iopub.execute_input": "2022-05-02T06:27:37.662244Z",
     "iopub.status.busy": "2022-05-02T06:27:37.661854Z",
     "iopub.status.idle": "2022-05-02T06:27:37.666116Z",
     "shell.execute_reply": "2022-05-02T06:27:37.665629Z"
    }
   },
   "outputs": [
    {
     "data": {
      "text/plain": [
       "'../supplemental/random_daily_fig.png'"
      ]
     },
     "execution_count": 5,
     "metadata": {},
     "output_type": "execute_result"
    }
   ],
   "source": [
    "shutil.copyfile(random_fig, \"../supplemental/random_daily_fig.png\",)"
   ]
  },
  {
   "cell_type": "code",
   "execution_count": 6,
   "id": "e4619349-f0b8-4837-9e85-db90aa43d83c",
   "metadata": {
    "execution": {
     "iopub.execute_input": "2022-05-02T06:27:37.668551Z",
     "iopub.status.busy": "2022-05-02T06:27:37.668190Z",
     "iopub.status.idle": "2022-05-02T06:27:37.671240Z",
     "shell.execute_reply": "2022-05-02T06:27:37.670753Z"
    },
    "tags": []
   },
   "outputs": [
    {
     "name": "stdout",
     "output_type": "stream",
     "text": [
      "random_fig path imported\n"
     ]
    }
   ],
   "source": [
    "print(\"random_fig path imported\")"
   ]
  },
  {
   "cell_type": "code",
   "execution_count": null,
   "id": "06c0a75f-4bbb-4fa5-ad86-aabe72877807",
   "metadata": {},
   "outputs": [],
   "source": []
  }
 ],
 "metadata": {
  "kernelspec": {
   "display_name": "Python 3 (ipykernel)",
   "language": "python",
   "name": "python3"
  },
  "language_info": {
   "codemirror_mode": {
    "name": "ipython",
    "version": 3
   },
   "file_extension": ".py",
   "mimetype": "text/x-python",
   "name": "python",
   "nbconvert_exporter": "python",
   "pygments_lexer": "ipython3",
   "version": "3.9.12"
  }
 },
 "nbformat": 4,
 "nbformat_minor": 5
}
