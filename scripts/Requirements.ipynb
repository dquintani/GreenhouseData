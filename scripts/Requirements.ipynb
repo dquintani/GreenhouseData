{
 "cells": [
  {
   "cell_type": "code",
   "execution_count": 3,
   "id": "3cb31ab7-8c4c-4c42-aa5c-90918fe0ffe4",
   "metadata": {},
   "outputs": [
    {
     "name": "stdout",
     "output_type": "stream",
     "text": [
      "repo & folder name: Greenhouse-Data\n"
     ]
    }
   ],
   "source": [
    "import os\n",
    "repo = \"Greenhouse-Data\"\n",
    "split_path_list = os.getcwd().split(os.sep)\n",
    "destination_index = split_path_list.index(repo)\n",
    "destination_path_list = split_path_list[:destination_index+1]\n",
    "destination_path = os.path.join(*destination_path_list)\n",
    "# display(os.getcwd())\n",
    "\n",
    "# os.chdir(\"/\" + destination_path)\n",
    "# print(f\"current dir: {os.getcwd()}\")\n",
    "print(f\"repo & folder name: {repo}\")"
   ]
  },
  {
   "cell_type": "code",
   "execution_count": 4,
   "id": "1242f8fc-b761-4508-8d1a-6f2e0ef48203",
   "metadata": {},
   "outputs": [],
   "source": [
    "import io, os, sys, types\n",
    "import pandas as pd\n",
    "import csv\n",
    "import numpy as np\n",
    "import scipy\n",
    "import geopandas as gpd\n",
    "import matplotlib.pyplot as plt\n",
    "import matplotlib.ticker as mtick\n",
    "from matplotlib.colors import LogNorm, Normalize\n",
    "import matplotlib.ticker as mticker\n",
    "import seaborn as sns\n",
    "import requests\n",
    "import random\n",
    "import json\n",
    "import geopandas as gpd\n",
    "import datetime\n",
    "from datetime import timedelta"
   ]
  },
  {
   "cell_type": "code",
   "execution_count": 4,
   "id": "cd9a6ec4-ac36-447d-bba7-56e53d08a422",
   "metadata": {},
   "outputs": [],
   "source": [
    "import pycountry\n",
    "import requests"
   ]
  },
  {
   "cell_type": "code",
   "execution_count": 5,
   "id": "1a5a94ba-82d9-4ce0-b539-88a94bfe0289",
   "metadata": {},
   "outputs": [],
   "source": [
    "from IPython import get_ipython\n",
    "from nbformat import read\n",
    "from IPython.core.interactiveshell import InteractiveShell"
   ]
  },
  {
   "cell_type": "code",
   "execution_count": 6,
   "id": "ff562a49-d7bd-411d-b3ca-2ed51e045543",
   "metadata": {},
   "outputs": [
    {
     "name": "stdout",
     "output_type": "stream",
     "text": [
      "Requirements imported!\n"
     ]
    }
   ],
   "source": [
    "print(\"Requirements imported!\")"
   ]
  }
 ],
 "metadata": {
  "kernelspec": {
   "display_name": "Python 3 (ipykernel)",
   "language": "python",
   "name": "python3"
  },
  "language_info": {
   "codemirror_mode": {
    "name": "ipython",
    "version": 3
   },
   "file_extension": ".py",
   "mimetype": "text/x-python",
   "name": "python",
   "nbconvert_exporter": "python",
   "pygments_lexer": "ipython3",
   "version": "3.8.10"
  }
 },
 "nbformat": 4,
 "nbformat_minor": 5
}
