{
 "cells": [
  {
   "cell_type": "code",
   "execution_count": 14,
   "id": "fa5ad431-58f6-4bbe-bdd7-a22a0f91b8cd",
   "metadata": {},
   "outputs": [],
   "source": [
    "import os\n",
    "import pandas as pd\n",
    "import numpy as np\n",
    "import pycountry\n",
    "import warnings\n",
    "import country_converter as coco\n",
    "import logging\n",
    "import json"
   ]
  },
  {
   "cell_type": "markdown",
   "id": "8f5516f3-7c60-44e5-b85a-e13c3bdd9d63",
   "metadata": {},
   "source": [
    "# STANDARD DICT { ISO3 : standard_name }"
   ]
  },
  {
   "cell_type": "code",
   "execution_count": 15,
   "id": "866dd549-a480-435e-87cb-cf22eb7de35e",
   "metadata": {},
   "outputs": [
    {
     "data": {
      "text/plain": [
       "249"
      ]
     },
     "execution_count": 15,
     "metadata": {},
     "output_type": "execute_result"
    }
   ],
   "source": [
    "STANDARD_COUNTRY_DICT = dict(zip())\n",
    "\n",
    "for i in range(len(list(pycountry.countries))):\n",
    "    STANDARD_COUNTRY_DICT.update({list(pycountry.countries)[i].alpha_3 : list(pycountry.countries)[i].name})\n",
    "    try:\n",
    "        STANDARD_COUNTRY_DICT.update({list(pycountry.countries)[i].alpha_3 : list(pycountry.countries)[i].common_name})\n",
    "    except:\n",
    "        pass\n",
    "\n",
    "len(STANDARD_COUNTRY_DICT)"
   ]
  },
  {
   "cell_type": "code",
   "execution_count": 16,
   "id": "b2d0e0b6-583a-4c8a-8586-9ad8127d9be9",
   "metadata": {},
   "outputs": [],
   "source": [
    "with open('../supplemental/STANDARD_COUNTRY_DICT_ISO3.json', 'w') as fp:\n",
    "    json.dump(STANDARD_COUNTRY_DICT, fp)"
   ]
  },
  {
   "cell_type": "markdown",
   "id": "15d78adb-d852-43d5-b64f-703260043c88",
   "metadata": {},
   "source": [
    "# MAIN COUNTRY DICT\n",
    "### Create empty dictionary"
   ]
  },
  {
   "cell_type": "code",
   "execution_count": 17,
   "id": "acaf0345-4cc9-46a3-ac75-8141dd9f9b5c",
   "metadata": {},
   "outputs": [],
   "source": [
    "# main dict\n",
    "COUNTRY_DICT = dict(zip())"
   ]
  },
  {
   "cell_type": "markdown",
   "id": "ccd8223c-f0ee-440c-9175-c77d153857c3",
   "metadata": {},
   "source": [
    "### Create long dict using PYCOUNTRY\n",
    "- use both \"name\" and \"common_name\" of all included countries"
   ]
  },
  {
   "cell_type": "code",
   "execution_count": 18,
   "id": "774c8bc0-845c-45d7-9b73-271b6585ddf1",
   "metadata": {},
   "outputs": [],
   "source": [
    "for i in range(len(list(pycountry.countries))):\n",
    "    COUNTRY_DICT.update({ list(pycountry.countries)[i].name : list(pycountry.countries)[i].alpha_3 })\n",
    "    \n",
    "    #try common_name\n",
    "    try:\n",
    "        COUNTRY_DICT.update({ list(pycountry.countries)[i].common_name : list(pycountry.countries)[i].alpha_3 })\n",
    "    except: \n",
    "        pass\n",
    "    \n",
    "    #try official_name\n",
    "    try:\n",
    "        COUNTRY_DICT.update({ list(pycountry.countries)[i].official_name : list(pycountry.countries)[i].alpha_3 })\n",
    "    except: \n",
    "        pass\n",
    "    \n",
    "    # SORT (1st)\n",
    "    COUNTRY_DICT = {key: value for key, value in sorted(COUNTRY_DICT.items())}"
   ]
  },
  {
   "cell_type": "code",
   "execution_count": 19,
   "id": "be6f60a2-288a-456a-81c3-6ebc4d927379",
   "metadata": {},
   "outputs": [],
   "source": [
    "# COUNTRY_DICT"
   ]
  },
  {
   "cell_type": "markdown",
   "id": "03edaea9-2a2c-481c-9c94-db8b0cc08071",
   "metadata": {},
   "source": [
    "## Final MANUAL patch to dictionary\n",
    "### Adding missing and REMOVING duplicates!\n",
    "\n",
    "### IMPORTANT: There can be repeating duplicates. They are removed from top to bottom. "
   ]
  },
  {
   "cell_type": "code",
   "execution_count": 20,
   "id": "65a96da6-73e1-4083-a37a-1ba4618f584c",
   "metadata": {},
   "outputs": [],
   "source": [
    "# ADDING and replacing\n",
    "COUNTRY_DICT.update({\n",
    "    \n",
    "    # ??\n",
    "    \"Laos\":\"LAO\",\n",
    "    \"ANTIGUA & BARBUDA\":\"ATG\",\n",
    "    \"FRANCE (INCLUDING MONACO)\":\"FRA\",\n",
    "    \"ITALY (INCLUDING SAN MARINO)\":\"ITA\",\n",
    "    \"MACAU SPECIAL ADMINSTRATIVE REGION OF CHINA\":\"MAC\",\n",
    "    \n",
    "    #CDIAC\n",
    "    \"NIGER\":\"NER\",\n",
    "    \"CURACAO\":\"CUW\",\n",
    "    \"REPUBLIC OF KOREA\":\"KOR\",\n",
    "    \n",
    "    #FAO\n",
    "    \"Republic of Korea\": \"KOR\",\n",
    "    \"China, Taiwan Province of\": \"TWN\",\n",
    "\n",
    "})\n",
    "\n",
    "# REMOVING (converting to np.nan)\n",
    "REMOVE_LIST = [\n",
    "    \n",
    "    # BP\n",
    "    \"Other Southern Africa\",\n",
    "    \n",
    "    #CDIAC\n",
    "    \"NETHERLAND ANTILLES AND ARUBA\",\n",
    "    \"EAST & WEST PAKISTAN\",\n",
    "    \"FRENCH INDO-CHINA\",\n",
    "    \"TANGANYIKA\",\n",
    "    \"CZECHOSLOVAKIA\",\n",
    "    \"FEDERAL REPUBLIC OF GERMANY\",\n",
    "    \"JAPAN (EXCLUDING THE RUYUKU ISLANDS)\",\n",
    "    \"GUADELOUPE\",\n",
    "    \"KUWAITI OIL FIRES\",\n",
    "    \"PENINSULAR MALAYSIA\",\n",
    "    \"SARAWAK\",\n",
    "    \"MARTINIQUE\",\n",
    "    \"SABAH\",\n",
    "    \"ST. KITTS-NEVIS-ANGUILLA\",\n",
    "    \"RHODESIA-NYASALAND\",\n",
    "    \"FORMER PANAMA CANAL ZONE\",\n",
    "    \"PACIFIC ISLANDS (PALAU)\",\n",
    "    \"FEDERATION OF MALAYA-SINGAPORE\",\n",
    "    \"ZANZIBAR\",\n",
    "    \"FORMER DEMOCRATIC YEMEN\",\n",
    "    \"FORMER YEMEN\",\n",
    "    \"UNITED KOREA\",\n",
    "    \"RWANDA-URUNDI\",\n",
    "    \"SUDAN\",\n",
    "    \"REPUBLIC OF SUDAN\", # DUNNO WHICH IS WHICH\n",
    "    \n",
    "    #EIA\n",
    "    \"Former Czechoslovakia\",\n",
    "    \"Kosovo\",\n",
    "    \n",
    "    #IEA\n",
    "    \"Asia (excl. China)\",\n",
    "    \"China (incl. Hong Kong, China)\", # read methodology, this is a \"continent\"\n",
    "    \"Africa\",\n",
    "    \"Korea\", # ?? \n",
    "    \n",
    "    #GCP\n",
    "    \"Africa\",\n",
    "    \n",
    "    #FAO\n",
    "    \"Australia and New Zealand\",\n",
    "    \"Czechoslovakia\",\n",
    "    \"Ethiopia PDR\",\n",
    "    \"Sudan (former)\",\n",
    "    \"Southern Africa\",\n",
    "    \"China, mainland\", # hmmm\n",
    "    \"Micronesia\",\n",
    "    \"French Guyana\",\n",
    "    \"Polynesia\",\n",
    "    \n",
    "]\n",
    "\n",
    "REMOVE_DICT = dict(zip(REMOVE_LIST, [np.nan] * len(REMOVE_LIST) ))\n",
    "\n",
    "COUNTRY_DICT.update(REMOVE_DICT)\n",
    "\n",
    "# SORT (2nd time!)\n",
    "COUNTRY_DICT = {key: value for key, value in sorted(COUNTRY_DICT.items())}"
   ]
  },
  {
   "cell_type": "markdown",
   "id": "1fffa608-bd8c-4201-a26f-54377aebe74d",
   "metadata": {},
   "source": [
    "# NAME -> CODE (CODE_GENERATOR_ISO3)"
   ]
  },
  {
   "cell_type": "code",
   "execution_count": 21,
   "id": "ed908955-8004-49a8-9102-a4514e900f5d",
   "metadata": {},
   "outputs": [],
   "source": [
    "main_dict = dict(zip())\n",
    "def CODE_GENERATOR_ISO3(df, show_missing=False, run_pycountry=True, run_coco=True, run_final_patch=True, show_duplicates_nan=False, normalize_names=False):\n",
    "    \n",
    "    # -----------CREATE MAIN DICT-------------------#\n",
    "    \n",
    "    country_list = df.name.unique()\n",
    "    \n",
    "    # for CDIAC\n",
    "    if normalize_names == True:\n",
    "        country_list\n",
    "    \n",
    "    # ----------------------------------------------#\n",
    "\n",
    "    \n",
    "    # STAGE 1: Use COUNTRY_DICT (which uses all pycountry keys and user PATCH of countries to add)\n",
    "    for i, j in enumerate(country_list):\n",
    "        try:\n",
    "            main_dict.update({ j : COUNTRY_DICT[j] })\n",
    "        except:\n",
    "            main_dict.update({ j : np.nan })\n",
    "\n",
    "    # STAGE 2.1: Use pycountry \"search_fuzzy()\"\n",
    "    if run_pycountry == True:\n",
    "        \n",
    "        for i, j in enumerate(country_list):\n",
    "            if type(main_dict[j]) == float: #only NaN            \n",
    "                try:\n",
    "                    main_dict.update({ j : pycountry.countries.search_fuzzy(j)[0].alpha_3 })\n",
    "                except:\n",
    "                    main_dict.update({ j : np.nan })\n",
    "\n",
    "    # STAGE 2.2: Use coco \"convert\"\n",
    "    logging.disable(logging.WARNING) #friggin logging\n",
    "    if run_coco == True:\n",
    "        for i, j in enumerate(country_list):\n",
    "            if type(main_dict[j]) == float: #only NaN\n",
    "                try:\n",
    "                    main_dict.update({ j : coco.convert(names=j, to='ISO3', not_found=np.nan) })\n",
    "                    # print(\"converted: \", j, \" : \", coco.convert(names=j, to='ISO3', not_found=np.nan, enforce_list=False))\n",
    "                except:\n",
    "                    main_dict.update({ j : np.nan })\n",
    "                    warnings.filterwarnings(\"ignore\",message=\"More\")\n",
    "\n",
    "            # double code fix (choses first in list)\n",
    "            if type(main_dict[j]) == list:\n",
    "                main_dict.update({ j : main_dict[j][0] })\n",
    "                print(f\">>> {j} made a list of ({coco.convert(names=j, to='ISO3', not_found=np.nan)}) but is now {main_dict[j]} (first item)\\n\")\n",
    "    logging.disable(logging.NOTSET) #friggin logging\n",
    "\n",
    "                \n",
    "    # STAGE 3: PATCH (RE-update dictionary (2nd time!) to remove problems generated in stage 2)\n",
    "    if run_final_patch == True:\n",
    "\n",
    "        for i, j in enumerate(country_list):\n",
    "            try:\n",
    "                main_dict.update({ j : COUNTRY_DICT[j] })\n",
    "            except:\n",
    "                pass\n",
    "        print(\"PATCH APPLIED\")\n",
    "\n",
    "    \n",
    "    # ----------------------------------------------#\n",
    "       \n",
    "    \n",
    "    # Missing codes\n",
    "    missing = []\n",
    "    for i, j in enumerate(country_list):\n",
    "        if type(main_dict[j]) == float:\n",
    "            missing.append(j) \n",
    "    if show_missing == True:\n",
    "        print(f\">>> {len(missing)} Missing codes (NaN) in this df\\n\" , missing)\n",
    "        \n",
    "    \n",
    "    # Add codes to df\n",
    "    df.code = df.name.map(main_dict)\n",
    "    \n",
    "    # Convert duplicates \"0\" to np.nan\n",
    "    # df.code = df.code.replace({0:np.nan})    \n",
    "    \n",
    "    #Show duplicates and NaN\n",
    "    if show_duplicates_nan == True:\n",
    "        df_dup_finder = df.groupby([\"code\",\"name\"]).count().reset_index().iloc[:,:2]\n",
    "        dup_list = df_dup_finder[df_dup_finder.duplicated(subset=[\"code\"])].code\n",
    "        df_dup = df_dup_finder[df_dup_finder.code.isin(dup_list)].groupby([\"code\",\"name\"]).count()\n",
    "        print(f\"\\n>>> {len(df_dup)} DUPLICATES:\")\n",
    "        display(df_dup)\n",
    "    \n",
    "    # UPDATE country dict and sort (3rd time!)\n",
    "    COUNTRY_DICT.update(main_dict)\n",
    "    return df, main_dict, COUNTRY_DICT\n",
    "\n",
    "# ----------------------------------------------#\n",
    "# ----------------------------------------------#\n",
    "# ----------------------------------------------#\n",
    "\n",
    "\n",
    "# TEST  - use online link to avoid module importing errors!\n",
    "# df = pd.read_csv(\"https://raw.githubusercontent.com/owid/co2-data/master/owid-co2-data.csv\")\n",
    "# df = df.rename(columns={\"country\":\"name\"})\n",
    "# df.insert(0,\"code\", np.nan)\n",
    "\n",
    "# CODE_GENERATOR_ISO3(df, show_missing=True, run_pycountry=True, run_coco=True, show_duplicates_nan=True, run_final_patch=True)\n",
    "# df"
   ]
  },
  {
   "cell_type": "markdown",
   "id": "bc16d081-68c0-4f61-ba39-e8577309854e",
   "metadata": {},
   "source": [
    "# CODE -> NAME (COUNTRY_NAME_GENERATOR_FROM_ISO3)"
   ]
  },
  {
   "cell_type": "code",
   "execution_count": 22,
   "id": "6bbc8441-1984-4ecf-a1cd-7b69a8ef307e",
   "metadata": {},
   "outputs": [],
   "source": [
    "codes_dict = dict(zip())\n",
    "def COUNTRY_NAME_GENERATOR_FROM_ISO3(df, show_missing = False, show_duplicates_nan = False):\n",
    "    \n",
    "    codes_list = df.groupby(\"code\").count().index\n",
    "    \n",
    "    # creates dictionary of {CODES : NAMES}\n",
    "    for i, j in enumerate(codes_list):\n",
    "        try:\n",
    "            codes_dict.update({j : pycountry.countries.search_fuzzy(j)[0].name})\n",
    "        except:\n",
    "            codes_dict.update({j : np.nan})\n",
    "    \n",
    "    # Add codes to df\n",
    "    df.name = df.code.map(codes_dict)\n",
    "\n",
    "    # show missing\n",
    "    if show_missing == True:\n",
    "        # find missing names (instead of missing codes due to inverse)\n",
    "        missing_list = df.groupby([\"code\", \"name\"],dropna=False).count().reset_index()\n",
    "        missing_list = missing_list[missing_list.name.isna()].code\n",
    "        print(\"MISSING names:\\n\" , str(list(missing_list)))\n",
    "\n",
    "    #Show duplicates and NaN\n",
    "    if show_duplicates_nan == True:\n",
    "        df_dup_finder = df.groupby([\"code\",\"name\"]).count().reset_index().iloc[:,:2]\n",
    "        dup_list = df_dup_finder[df_dup_finder.duplicated(subset=[\"code\"])].code\n",
    "        df_dup = df_dup_finder[df_dup_finder.code.isin(dup_list)].groupby([\"code\",\"name\"]).count()\n",
    "        print(f\"\\n>>> {len(df_dup)} DUPLICATES:\")\n",
    "        \n",
    "        \n",
    "# ----------------------------------------------#\n",
    "# ----------------------------------------------#\n",
    "# ----------------------------------------------#\n",
    "\n",
    "\n",
    "# TEST  - use online link to avoid module importing errors!\n",
    "# df = pd.read_csv(\"https://raw.githubusercontent.com/owid/co2-data/master/owid-co2-data.csv\")\n",
    "# df = df.rename(columns={\"iso_code\":\"code\"})\n",
    "# df.insert(0,\"name\", np.nan)\n",
    "\n",
    "# COUNTRY_NAME_GENERATOR_FROM_ISO3(df, show_missing = True, show_duplicates_nan = True)\n",
    "# df"
   ]
  },
  {
   "cell_type": "code",
   "execution_count": 23,
   "id": "d3367573-288a-4390-9079-e04af1f3fcd4",
   "metadata": {},
   "outputs": [
    {
     "name": "stdout",
     "output_type": "stream",
     "text": [
      "Imported COUNTRY_DICT & CODE_GENERATOR_ISO3\n"
     ]
    }
   ],
   "source": [
    "print(\"Imported COUNTRY_DICT & CODE_GENERATOR_ISO3\")"
   ]
  }
 ],
 "metadata": {
  "kernelspec": {
   "display_name": "Python 3 (ipykernel)",
   "language": "python",
   "name": "python3"
  },
  "language_info": {
   "codemirror_mode": {
    "name": "ipython",
    "version": 3
   },
   "file_extension": ".py",
   "mimetype": "text/x-python",
   "name": "python",
   "nbconvert_exporter": "python",
   "pygments_lexer": "ipython3",
   "version": "3.8.10"
  }
 },
 "nbformat": 4,
 "nbformat_minor": 5
}
