{
 "cells": [
  {
   "cell_type": "code",
   "execution_count": 1,
   "id": "0fe76645-112f-466c-834c-199930b324fd",
   "metadata": {},
   "outputs": [
    {
     "name": "stdout",
     "output_type": "stream",
     "text": [
      "Requirements imported!\n",
      "Inventories imported!\n",
      "styles imported!\n",
      "Imported COUNTRY_DICT & CODE_GENERATOR_ISO3\n",
      "fig_country_saver imported!\n"
     ]
    }
   ],
   "source": [
    "%run scripts/Requirements.ipynb\n",
    "%run scripts/Inventory_Importer.ipynb\n",
    "%run scripts/Figure_Styles.ipynb\n",
    "%run scripts/Country_ISO_Codes.ipynb\n",
    "%run scripts/Figure_Saver.ipynb"
   ]
  },
  {
   "cell_type": "code",
   "execution_count": 2,
   "id": "786f8924-0556-4454-bf67-b4a658ccad2f",
   "metadata": {},
   "outputs": [],
   "source": [
    "COUNTRY_DICT = json.load(open(\"scripts/STANDARD_COUNTRY_DICT_ISO3.json\", \"r\"))\n",
    "STANDARD_COUNTRY_DICT = json.load(open(\"scripts/STANDARD_COUNTRY_DICT_ISO3.json\", \"r\"))"
   ]
  }
 ],
 "metadata": {
  "kernelspec": {
   "display_name": "Python 3 (ipykernel)",
   "language": "python",
   "name": "python3"
  },
  "language_info": {
   "codemirror_mode": {
    "name": "ipython",
    "version": 3
   },
   "file_extension": ".py",
   "mimetype": "text/x-python",
   "name": "python",
   "nbconvert_exporter": "python",
   "pygments_lexer": "ipython3",
   "version": "3.8.10"
  }
 },
 "nbformat": 4,
 "nbformat_minor": 5
}
