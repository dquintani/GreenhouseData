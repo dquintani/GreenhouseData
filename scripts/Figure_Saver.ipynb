{
 "cells": [
  {
   "cell_type": "code",
   "execution_count": 1,
   "id": "33f840ec-6c7a-48c4-9e47-0aa1f263d8de",
   "metadata": {},
   "outputs": [],
   "source": [
    "import json"
   ]
  },
  {
   "cell_type": "code",
   "execution_count": 2,
   "id": "f02ad175-a4c6-4143-8844-7023409c8a8a",
   "metadata": {},
   "outputs": [],
   "source": [
    "country_dir = \"country_data/\""
   ]
  },
  {
   "cell_type": "code",
   "execution_count": 3,
   "id": "d777336a-901a-4df6-8022-e3fcfca98b34",
   "metadata": {},
   "outputs": [
    {
     "name": "stdout",
     "output_type": "stream",
     "text": [
      "fig_country_saver imported!\n"
     ]
    }
   ],
   "source": [
    "def fig_country_saver(fig, code, file_ending_and_type):\n",
    "    fig.savefig(\"../\" + country_dir + code + \"_\" + STANDARD_COUNTRY_DICT[code] + \"/figures/\" + code + \"_\" + file_ending_and_type, bbox_inches=\"tight\")\n",
    "    \n",
    "print(\"fig_country_saver imported!\")"
   ]
  }
 ],
 "metadata": {
  "kernelspec": {
   "display_name": "Python 3 (ipykernel)",
   "language": "python",
   "name": "python3"
  },
  "language_info": {
   "codemirror_mode": {
    "name": "ipython",
    "version": 3
   },
   "file_extension": ".py",
   "mimetype": "text/x-python",
   "name": "python",
   "nbconvert_exporter": "python",
   "pygments_lexer": "ipython3",
   "version": "3.8.10"
  }
 },
 "nbformat": 4,
 "nbformat_minor": 5
}
