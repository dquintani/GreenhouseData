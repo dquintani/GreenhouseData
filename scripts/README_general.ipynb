{
 "cells": [
  {
   "cell_type": "code",
   "execution_count": 2,
   "id": "7a575517-8262-4229-8ead-2dc76a8c18a9",
   "metadata": {},
   "outputs": [],
   "source": [
    "import os\n",
    "import glob\n",
    "import sys\n",
    "import markdown\n",
    "import json\n",
    "import pycountry"
   ]
  },
  {
   "cell_type": "code",
   "execution_count": 3,
   "id": "ee234e39-bb61-4a52-95d2-f524b90c8b93",
   "metadata": {},
   "outputs": [],
   "source": [
    "STANDARD_COUNTRY_DICT = json.load(open(\"../supplemental/STANDARD_COUNTRY_DICT_ISO3.json\", \"r\"))"
   ]
  },
  {
   "cell_type": "markdown",
   "id": "70bc7dab-ceec-42c6-bbc0-61faddd75dd5",
   "metadata": {},
   "source": [
    "# Global dir:"
   ]
  },
  {
   "cell_type": "code",
   "execution_count": 9,
   "id": "1038c94d-5d59-41ae-825d-abebc0918efe",
   "metadata": {},
   "outputs": [],
   "source": [
    "BASE = \"country_data/\"\n",
    "CLEAN_DATA_DIR = \"../clean_data/\"\n",
    "ONLINE_REPO_BASE = \"https://github.com/dquintani/GreenhouseData/tree/master/\""
   ]
  },
  {
   "cell_type": "code",
   "execution_count": 10,
   "id": "a13dda4e-f63d-40d4-958e-22c801fec43d",
   "metadata": {},
   "outputs": [],
   "source": [
    "# GO TO country_data folder\n",
    "\n",
    "# ACTIVATE BELOW FOR ERROR, THEN SILENCE AGAIN!\n",
    "\n",
    "def GLOBAL_README(DIR):\n",
    "    # go to country directory\n",
    "    os.chdir(\"../\")\n",
    "    os.chdir(DIR)\n",
    "\n",
    "    # find data and figures\n",
    "    figures = glob.glob(os.getcwd() + \"/*.png\", recursive = True)\n",
    "    \n",
    "    #print figure paths?\n",
    "    # print(str(figures) + \"\\n\\n\")\n",
    "\n",
    "    # create README.md file \n",
    "    open('README.md', 'w+')\n",
    "\n",
    "    # open README.md\n",
    "    with open('README.md', 'r') as f:\n",
    "        text = f.read()\n",
    "        html = markdown.markdown(text)\n",
    "\n",
    "    # write INTRO\n",
    "    with open('README.md', 'w') as f:\n",
    "        f.write((\n",
    "\n",
    "f'''\n",
    "<center>\n",
    "<h1>\n",
    "Global Trends\n",
    "</h1>\n",
    "Here you will find a diverse set of global/international GHG emission figures.\n",
    "<br>\n",
    "\n",
    "<h3>\n",
    "You can also find the complete inventory data (modified by Greenhouse Data) <a href=\"{ONLINE_REPO_BASE}clean_data\">here</a>\n",
    "\n",
    "'''\n",
    "            ))  \n",
    "    \n",
    "    \n",
    "    # write FIGURES\n",
    "        for i, j in enumerate(figures):\n",
    "            f.write(markdown.markdown(\n",
    "\n",
    "f'''\n",
    "\n",
    "## Figure {i+1}\n",
    "![]({os.path.basename(j)})\n",
    "\n",
    "\n",
    "'''\n",
    "            ))\n",
    "            \n",
    "\n",
    "# CREATE GLOBAL README IMAGES\n",
    "GLOBAL_README(\"global\")"
   ]
  },
  {
   "cell_type": "markdown",
   "id": "0d07fdeb-70b1-40ec-b2da-3dff12561966",
   "metadata": {},
   "source": [
    "# ALL COUNTRY DIRECTORIES"
   ]
  },
  {
   "cell_type": "code",
   "execution_count": 10,
   "id": "3d332a96-4881-48e0-a1e1-39ff418417c3",
   "metadata": {},
   "outputs": [
    {
     "name": "stdout",
     "output_type": "stream",
     "text": [
      "README - COUNTRIES directories updated!\n"
     ]
    }
   ],
   "source": [
    "# GO TO country_data folder\n",
    "\n",
    "# ACTIVATE BELOW FOR ERROR, THEN SILENCE AGAIN!\n",
    "# os.chdir(\"../\")\n",
    "\n",
    "os.chdir(\"../country_data\")\n",
    "\n",
    "\n",
    "for i, j in enumerate(list(STANDARD_COUNTRY_DICT)):\n",
    "\n",
    "    # create directory name\n",
    "    country_dir_name = j + \"_\" + STANDARD_COUNTRY_DICT[j]\n",
    "    \n",
    "    # go to country directory\n",
    "    os.chdir(country_dir_name)\n",
    "    \n",
    "    # find data and figures\n",
    "    data_files = glob.glob(os.getcwd() + \"/data/*.csv\", recursive = True)\n",
    "    figures = glob.glob(os.getcwd() + \"/figures/*.png\", recursive = True)\n",
    "\n",
    "    #print?\n",
    "    # print(str(data_files) + \"\\n\\n\")\n",
    "    # print(str(figures) + \"\\n\\n\")\n",
    "    \n",
    "    # re-create README.md file for each country\n",
    "    open('README.md', 'w+')\n",
    "    \n",
    "    # open README.md\n",
    "    with open('README.md', 'r') as f:\n",
    "        text = f.read()\n",
    "        html = markdown.markdown(text)\n",
    "\n",
    "        \n",
    "        \n",
    "    ###################    \n",
    "    # WRITE on README #\n",
    "    ###################\n",
    "    with open('README.md', 'w') as f:\n",
    "        \n",
    "        \n",
    "        \n",
    "        # INTRO\n",
    "        f.write((\n",
    "f\"\"\"\n",
    "<center>\n",
    "<h1 align=\"center\">\n",
    "{pycountry.countries.get(alpha_3=j).flag * 5}\n",
    "<br>\n",
    "{STANDARD_COUNTRY_DICT[j]}\n",
    "<br>\n",
    "{pycountry.countries.get(alpha_3=j).flag * 5}\n",
    "</h1>\n",
    "\"\"\"\n",
    "        ))\n",
    "        \n",
    "        \n",
    "        \n",
    "        \n",
    "        \n",
    "        \n",
    "    # DATA -----------------------------------------------------------------------------------------------------------------------\n",
    "        f.write(markdown.markdown(\n",
    "f\"\"\"\n",
    "## Datasets:\n",
    "[View on Github](https://github.com/dquintani/Greenhouse-Data/tree/master/country_data/{j}_{STANDARD_COUNTRY_DICT[j]}/data)\n",
    "<br>\n",
    "\"\"\"\n",
    "        ))\n",
    "        \n",
    "        #make data file list\n",
    "        data_file_list = []        \n",
    "        for k,g in enumerate(data_files):\n",
    "            data_file_list.append(f\"[{os.path.basename(g)[4:-4]}](data/{os.path.basename(g)})\")\n",
    "        \n",
    "        #write list\n",
    "        f.write(markdown.markdown(\n",
    "\" || \".join([\"\".join([str(item) for item in sublist]) for sublist in data_file_list])\n",
    "        ))\n",
    "        data_file_list = [] #reset\n",
    "        \n",
    "           \n",
    "            \n",
    "                \n",
    "            \n",
    "            \n",
    "    # FIGURES -----------------------------------------------------------------------------------------------------------------------\n",
    "        f.write(markdown.markdown(\n",
    "\"\"\"\n",
    "<br>\n",
    "# Figures:\n",
    "\"\"\"\n",
    "        ))\n",
    "                \n",
    "        for k,g in enumerate(figures):\n",
    "            f.write(markdown.markdown(        \n",
    "f'''\n",
    "## #{k+1} ({str(os.path.basename(g))[:-4]})\n",
    "![](figures/{os.path.basename(g)})\n",
    "\n",
    "\n",
    "        \n",
    " '''\n",
    "            ))    \n",
    "    \n",
    "    \n",
    "    # go back to parent directory\n",
    "    os.chdir(\"../\")\n",
    "os.chdir(\"../scripts\")\n",
    "\n",
    "# print(\"README - COUNTRIES directories updated!\")"
   ]
  },
  {
   "cell_type": "code",
   "execution_count": 11,
   "id": "3ecc26de-ea64-4224-9625-2e91fbd6edb9",
   "metadata": {},
   "outputs": [
    {
     "name": "stdout",
     "output_type": "stream",
     "text": [
      "Global & country READMES updated\n"
     ]
    }
   ],
   "source": [
    "print(\"Global & country READMES updated\")"
   ]
  }
 ],
 "metadata": {
  "kernelspec": {
   "display_name": "Python 3 (ipykernel)",
   "language": "python",
   "name": "python3"
  },
  "language_info": {
   "codemirror_mode": {
    "name": "ipython",
    "version": 3
   },
   "file_extension": ".py",
   "mimetype": "text/x-python",
   "name": "python",
   "nbconvert_exporter": "python",
   "pygments_lexer": "ipython3",
   "version": "3.8.10"
  },
  "widgets": {
   "application/vnd.jupyter.widget-state+json": {
    "state": {},
    "version_major": 2,
    "version_minor": 0
   }
  }
 },
 "nbformat": 4,
 "nbformat_minor": 5
}
