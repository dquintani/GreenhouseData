{
 "cells": [
  {
   "cell_type": "code",
   "execution_count": 4,
   "id": "627caa3d-1ae9-4325-8dd7-6373ef3bcec1",
   "metadata": {},
   "outputs": [],
   "source": [
    "import matplotlib.pyplot as plt\n",
    "import seaborn as sns\n",
    "from cycler import cycler"
   ]
  },
  {
   "cell_type": "code",
   "execution_count": 5,
   "id": "08f10d37-c52e-47db-abf4-283f63d44629",
   "metadata": {},
   "outputs": [],
   "source": [
    "plt.rc('axes', unicode_minus=False)"
   ]
  },
  {
   "cell_type": "code",
   "execution_count": 6,
   "id": "0b7ed2b0-3ed5-4130-8ea6-6943a58ad292",
   "metadata": {},
   "outputs": [],
   "source": [
    "sns.set(rc={\"figure.dpi\":200, 'savefig.dpi':200})"
   ]
  },
  {
   "cell_type": "code",
   "execution_count": 7,
   "id": "d909726b-26b4-427d-9a78-b1d5956f85e4",
   "metadata": {},
   "outputs": [],
   "source": [
    "fig_and_save_dpi = 160\n",
    "plt.rcParams['figure.dpi'] = 160\n",
    "plt.rcParams['savefig.dpi'] = 160"
   ]
  },
  {
   "cell_type": "code",
   "execution_count": 8,
   "id": "f4343449-283a-47e4-9ade-fc6315c99022",
   "metadata": {},
   "outputs": [],
   "source": [
    "single_fig_size = (8,4)\n"
   ]
  },
  {
   "cell_type": "code",
   "execution_count": 9,
   "id": "a375b39f-ac39-4071-9789-b1cda4ab05d2",
   "metadata": {},
   "outputs": [
    {
     "name": "stdout",
     "output_type": "stream",
     "text": [
      "current figure and save dpi = 160; current single fig size = (8, 4)\n"
     ]
    }
   ],
   "source": [
    "figure_standards = f\"current figure and save dpi = {str(fig_and_save_dpi)}; current single fig size = {str(single_fig_size)}\"\n",
    "print (figure_standards)"
   ]
  },
  {
   "cell_type": "code",
   "execution_count": 10,
   "id": "ac36e896-8b8d-4ff7-afdb-62302c490c9c",
   "metadata": {},
   "outputs": [],
   "source": [
    "plt.style.use(\"Solarize_Light2\")\n",
    "plt.rcParams['font.family'] = 'Manjari'"
   ]
  },
  {
   "cell_type": "code",
   "execution_count": 11,
   "id": "ff62fe8b-d6f1-44fd-9176-95c521d8fdea",
   "metadata": {},
   "outputs": [
    {
     "name": "stdout",
     "output_type": "stream",
     "text": [
      "styles imported!\n"
     ]
    }
   ],
   "source": [
    "print(\"styles imported!\")"
   ]
  },
  {
   "cell_type": "code",
   "execution_count": 12,
   "id": "9de2119b-5df5-42e6-8c4d-50807d2702bb",
   "metadata": {},
   "outputs": [
    {
     "data": {
      "text/plain": [
       "['Solarize_Light2',\n",
       " '_classic_test_patch',\n",
       " '_mpl-gallery',\n",
       " '_mpl-gallery-nogrid',\n",
       " 'bmh',\n",
       " 'classic',\n",
       " 'dark_background',\n",
       " 'fast',\n",
       " 'fivethirtyeight',\n",
       " 'ggplot',\n",
       " 'grayscale',\n",
       " 'seaborn',\n",
       " 'seaborn-bright',\n",
       " 'seaborn-colorblind',\n",
       " 'seaborn-dark',\n",
       " 'seaborn-dark-palette',\n",
       " 'seaborn-darkgrid',\n",
       " 'seaborn-deep',\n",
       " 'seaborn-muted',\n",
       " 'seaborn-notebook',\n",
       " 'seaborn-paper',\n",
       " 'seaborn-pastel',\n",
       " 'seaborn-poster',\n",
       " 'seaborn-talk',\n",
       " 'seaborn-ticks',\n",
       " 'seaborn-white',\n",
       " 'seaborn-whitegrid',\n",
       " 'tableau-colorblind10']"
      ]
     },
     "execution_count": 12,
     "metadata": {},
     "output_type": "execute_result"
    }
   ],
   "source": [
    "plt.style.available"
   ]
  },
  {
   "cell_type": "code",
   "execution_count": 39,
   "id": "e12ae39d-4685-469b-a125-a91f36dd8556",
   "metadata": {},
   "outputs": [],
   "source": [
    "def add_GreenhouseData_trademark(fig, x=.5, y=0.01, fontsize = 6, ha=\"center\", color=\"grey\"):\n",
    "    fig.text(s=\"© \"+\"Greenhouse Data\\nFind us on Twitter @GreenhouseData\",\n",
    "             x = x,\n",
    "             y = y,\n",
    "             fontsize = fontsize,\n",
    "             ha=ha,\n",
    "             color=color)"
   ]
  },
  {
   "cell_type": "code",
   "execution_count": 1,
   "id": "6ea0a326-6c74-448c-8acf-2b7080c853fa",
   "metadata": {},
   "outputs": [],
   "source": [
    "def show_figure_style():\n",
    "    \n",
    "    fig, axs = plt.subplots(1,1, figsize=(8,4))\n",
    "    plt.rcParams['axes.prop_cycle'] = cycler(color=[\"b\",\"g\",\"r\",\"c\",\"m\",\"y\",\"k\",\"lime\",\"teal\"])\n",
    "\n",
    "    plt.plot([0,1])\n",
    "    plt.plot([0,2])\n",
    "    plt.plot([0,3])\n",
    "    plt.plot([0,4])\n",
    "    plt.plot([0,5])\n",
    "    plt.plot([0,6])\n",
    "    plt.plot([0,7])\n",
    "    plt.plot([0,8])\n",
    "    plt.plot([0,9])\n",
    "\n",
    "    plt.title(\"Figure Styles imported! Current style:\")\n",
    "    \n",
    "    add_GreenhouseData_trademark(fig)\n",
    "    \n",
    "\n",
    "# show_figure_style()"
   ]
  },
  {
   "cell_type": "code",
   "execution_count": null,
   "id": "928f772e-3654-4882-aaf2-050a605334da",
   "metadata": {},
   "outputs": [],
   "source": []
  },
  {
   "cell_type": "code",
   "execution_count": null,
   "id": "112a1d0b-ee24-40f7-a59f-0f7a0f38ee3b",
   "metadata": {},
   "outputs": [],
   "source": []
  }
 ],
 "metadata": {
  "kernelspec": {
   "display_name": "Python 3 (ipykernel)",
   "language": "python",
   "name": "python3"
  },
  "language_info": {
   "codemirror_mode": {
    "name": "ipython",
    "version": 3
   },
   "file_extension": ".py",
   "mimetype": "text/x-python",
   "name": "python",
   "nbconvert_exporter": "python",
   "pygments_lexer": "ipython3",
   "version": "3.8.10"
  }
 },
 "nbformat": 4,
 "nbformat_minor": 5
}
