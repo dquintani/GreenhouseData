{
 "cells": [
  {
   "cell_type": "code",
   "execution_count": 2,
   "id": "67e80a8b-8d4f-448c-aed3-67de9eedf3a5",
   "metadata": {},
   "outputs": [],
   "source": [
    "import pandas as pd\n",
    "import os"
   ]
  },
  {
   "cell_type": "code",
   "execution_count": 3,
   "id": "aed5c2b0-3339-4f5b-a7ce-2f617bee54a3",
   "metadata": {},
   "outputs": [],
   "source": [
    "# current_folder=\"scripts\"\n",
    "\n",
    "# current_base = os.path.basename(os.getcwd())\n",
    "# print(f\"Starting base: {current_base}\")\n",
    "# if current_base != current_folder:\n",
    "#     os.chdir(current_folder)\n",
    "# os.chdir(\"../\")\n",
    "# print(f\"Ending base: {os.path.basename(os.getcwd())}\")"
   ]
  },
  {
   "cell_type": "code",
   "execution_count": 4,
   "id": "5af3cc9f-cf12-4550-aa91-74aa4e0cb33e",
   "metadata": {},
   "outputs": [],
   "source": [
    "df_bp = pd.read_csv(\"../clean_data/BP.csv\")\n",
    "df_cdiac = pd.read_csv(\"../clean_data/CDIAC.csv\")\n",
    "df_eia = pd.read_csv(\"../clean_data/EIA.csv\")\n",
    "df_iea = pd.read_csv(\"../clean_data/IEA.csv\")\n",
    "df_gcp = pd.read_csv(\"../clean_data/GCP.csv\")\n",
    "df_gcp_cons = pd.read_csv(\"../clean_data/GCP_consumption.csv\")\n",
    "df_epa = pd.read_csv(\"../clean_data/EPA.csv\")\n",
    "df_fao = pd.read_csv(\"../clean_data/FAO.csv\", low_memory=False)\n",
    "df_cait = pd.read_csv(\"../clean_data/CAIT.csv\")\n",
    "df_edgar = pd.read_csv(\"../clean_data/EDGAR.csv\")\n",
    "df_primap = pd.read_csv(\"../clean_data/PRIMAP-hist.csv\")\n",
    "df_minx = pd.read_csv(\"../clean_data/Minx2021.csv\")\n",
    "df_unfccc_ai = pd.read_csv(\"../clean_data/UNFCCC_AI.csv\")\n",
    "df_unfccc_nai = pd.read_csv(\"../clean_data/UNFCCC_NAI.csv\")"
   ]
  },
  {
   "cell_type": "code",
   "execution_count": 12,
   "id": "19995d26-557e-4b83-9ea0-0681d1ab358f",
   "metadata": {},
   "outputs": [],
   "source": [
    "df_bp_global = pd.read_csv(\"../clean_data/global_subsets/BP_global.csv\", index_col=0)\n",
    "df_cdiac_global = pd.read_csv(\"../clean_data/global_subsets/CDIAC_global.csv\", index_col=0)\n",
    "df_eia_global = pd.read_csv(\"../clean_data/global_subsets/EIA_global.csv\", index_col=0)\n",
    "df_iea_global = pd.read_csv(\"../clean_data/global_subsets/IEA_global.csv\", index_col=0)\n",
    "df_gcp_global = pd.read_csv(\"../clean_data/global_subsets/GCP_global.csv\", index_col=0)\n",
    "df_gcp_cons_global = pd.read_csv(\"../clean_data/global_subsets/GCP_cons_global.csv\", index_col=0)\n",
    "df_epa_global = pd.read_csv(\"../clean_data/global_subsets/EPA_global.csv\", index_col=0)\n",
    "df_fao_global = pd.read_csv(\"../clean_data/global_subsets/FAO_global.csv\", low_memory=False, index_col=0)\n",
    "df_cait_global = pd.read_csv(\"../clean_data/global_subsets/CAIT_global.csv\", index_col=0)\n",
    "df_edgar_global = pd.read_csv(\"../clean_data/global_subsets/EDGAR_global.csv\", index_col=0)\n",
    "df_primap_global = pd.read_csv(\"../clean_data/global_subsets/PRIMAP-hist_global.csv\", index_col=0)\n",
    "df_minx_global = pd.read_csv(\"../clean_data/global_subsets/Minx2021_global.csv\", index_col=0)"
   ]
  },
  {
   "cell_type": "code",
   "execution_count": 3,
   "id": "617c3ade-0f2a-4684-a870-9b87ce4c8c3d",
   "metadata": {},
   "outputs": [],
   "source": [
    "df_carbon_mon = pd.read_csv(\"../clean_data/Carbon-Monitor.csv\", index_col=0)"
   ]
  },
  {
   "cell_type": "code",
   "execution_count": 4,
   "id": "81baea3e-0627-4f59-9aab-b2ed6d3413e8",
   "metadata": {},
   "outputs": [],
   "source": [
    "df_carbon_majors = pd.read_csv(\"../clean_data/Carbon-Majors-2018.csv\")"
   ]
  },
  {
   "cell_type": "code",
   "execution_count": 53,
   "id": "ab8d082e-ef47-49a1-9f9c-73a15b1a19ee",
   "metadata": {},
   "outputs": [
    {
     "name": "stdout",
     "output_type": "stream",
     "text": [
      "Inventories imported!\n"
     ]
    }
   ],
   "source": [
    "print(\"Inventories imported!\")"
   ]
  }
 ],
 "metadata": {
  "kernelspec": {
   "display_name": "Python 3 (ipykernel)",
   "language": "python",
   "name": "python3"
  },
  "language_info": {
   "codemirror_mode": {
    "name": "ipython",
    "version": 3
   },
   "file_extension": ".py",
   "mimetype": "text/x-python",
   "name": "python",
   "nbconvert_exporter": "python",
   "pygments_lexer": "ipython3",
   "version": "3.8.10"
  },
  "widgets": {
   "application/vnd.jupyter.widget-state+json": {
    "state": {},
    "version_major": 2,
    "version_minor": 0
   }
  }
 },
 "nbformat": 4,
 "nbformat_minor": 5
}
