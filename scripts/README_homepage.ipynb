{
 "cells": [
  {
   "cell_type": "code",
   "execution_count": 18,
   "id": "f946625f-b79b-433f-91f1-387d45d4335b",
   "metadata": {},
   "outputs": [
    {
     "name": "stdout",
     "output_type": "stream",
     "text": [
      "random_fig path imported\n"
     ]
    }
   ],
   "source": [
    "%run Random_Fig_Daily.ipynb"
   ]
  },
  {
   "cell_type": "code",
   "execution_count": 19,
   "id": "3adb7945-4c73-40b1-ae49-f2e71b5e9424",
   "metadata": {},
   "outputs": [],
   "source": [
    "import os\n",
    "import markdown\n",
    "import pandas as pd\n",
    "import json\n",
    "import pycountry\n",
    "import warnings\n",
    "\n",
    "import pyperclip\n",
    "from pandas.io.clipboards import to_clipboard"
   ]
  },
  {
   "cell_type": "code",
   "execution_count": 20,
   "id": "8a22be40-9a2f-4eb1-b7f2-90c6b64200ed",
   "metadata": {},
   "outputs": [
    {
     "name": "stderr",
     "output_type": "stream",
     "text": [
      "/tmp/ipykernel_247475/2546854365.py:1: ResourceWarning: unclosed file <_io.TextIOWrapper name='../supplemental/STANDARD_COUNTRY_DICT_ISO3.json' mode='r' encoding='UTF-8'>\n",
      "  STANDARD_COUNTRY_DICT = json.load(open(\"../supplemental/STANDARD_COUNTRY_DICT_ISO3.json\", \"r\"))\n",
      "ResourceWarning: Enable tracemalloc to get the object allocation traceback\n"
     ]
    }
   ],
   "source": [
    "STANDARD_COUNTRY_DICT = json.load(open(\"../supplemental/STANDARD_COUNTRY_DICT_ISO3.json\", \"r\"))"
   ]
  },
  {
   "cell_type": "code",
   "execution_count": 21,
   "id": "67399838-26c0-4134-bcc5-dbf5721d2f43",
   "metadata": {},
   "outputs": [],
   "source": [
    "BASE = \"country_data/\"\n",
    "CLEAN_DATA_DIR = \"../clean_data/\"\n",
    "ONLINE_REPO_BASE = \"https://github.com/dquintani/Greenhouse-Data/tree/master/\""
   ]
  },
  {
   "cell_type": "code",
   "execution_count": 22,
   "id": "b387135c-9fd9-4171-9123-ac1163c3ebd4",
   "metadata": {
    "tags": []
   },
   "outputs": [
    {
     "data": {
      "text/html": [
       "<div>\n",
       "<style scoped>\n",
       "    .dataframe tbody tr th:only-of-type {\n",
       "        vertical-align: middle;\n",
       "    }\n",
       "\n",
       "    .dataframe tbody tr th {\n",
       "        vertical-align: top;\n",
       "    }\n",
       "\n",
       "    .dataframe thead th {\n",
       "        text-align: right;\n",
       "    }\n",
       "</style>\n",
       "<table border=\"1\" class=\"dataframe\">\n",
       "  <thead>\n",
       "    <tr style=\"text-align: right;\">\n",
       "      <th></th>\n",
       "      <th>name</th>\n",
       "      <th>flag</th>\n",
       "      <th>mdlink</th>\n",
       "    </tr>\n",
       "    <tr>\n",
       "      <th>alpha_3</th>\n",
       "      <th></th>\n",
       "      <th></th>\n",
       "      <th></th>\n",
       "    </tr>\n",
       "  </thead>\n",
       "  <tbody>\n",
       "    <tr>\n",
       "      <th>AFG</th>\n",
       "      <td>Afghanistan</td>\n",
       "      <td>🇦🇫</td>\n",
       "      <td>[Afghanistan!](country_data/AFG_Afghanistan/)</td>\n",
       "    </tr>\n",
       "    <tr>\n",
       "      <th>ALB</th>\n",
       "      <td>Albania</td>\n",
       "      <td>🇦🇱</td>\n",
       "      <td>[Albania!](country_data/ALB_Albania/)</td>\n",
       "    </tr>\n",
       "    <tr>\n",
       "      <th>DZA</th>\n",
       "      <td>Algeria</td>\n",
       "      <td>🇩🇿</td>\n",
       "      <td>[Algeria!](country_data/DZA_Algeria/)</td>\n",
       "    </tr>\n",
       "    <tr>\n",
       "      <th>ASM</th>\n",
       "      <td>American Samoa</td>\n",
       "      <td>🇦🇸</td>\n",
       "      <td>[American Samoa!](country_data/ASM_American Sa...</td>\n",
       "    </tr>\n",
       "    <tr>\n",
       "      <th>AND</th>\n",
       "      <td>Andorra</td>\n",
       "      <td>🇦🇩</td>\n",
       "      <td>[Andorra!](country_data/AND_Andorra/)</td>\n",
       "    </tr>\n",
       "    <tr>\n",
       "      <th>...</th>\n",
       "      <td>...</td>\n",
       "      <td>...</td>\n",
       "      <td>...</td>\n",
       "    </tr>\n",
       "    <tr>\n",
       "      <th>ESH</th>\n",
       "      <td>Western Sahara</td>\n",
       "      <td>🇪🇭</td>\n",
       "      <td>[Western Sahara!](country_data/ESH_Western Sah...</td>\n",
       "    </tr>\n",
       "    <tr>\n",
       "      <th>YEM</th>\n",
       "      <td>Yemen</td>\n",
       "      <td>🇾🇪</td>\n",
       "      <td>[Yemen!](country_data/YEM_Yemen/)</td>\n",
       "    </tr>\n",
       "    <tr>\n",
       "      <th>ZMB</th>\n",
       "      <td>Zambia</td>\n",
       "      <td>🇿🇲</td>\n",
       "      <td>[Zambia!](country_data/ZMB_Zambia/)</td>\n",
       "    </tr>\n",
       "    <tr>\n",
       "      <th>ZWE</th>\n",
       "      <td>Zimbabwe</td>\n",
       "      <td>🇿🇼</td>\n",
       "      <td>[Zimbabwe!](country_data/ZWE_Zimbabwe/)</td>\n",
       "    </tr>\n",
       "    <tr>\n",
       "      <th>ALA</th>\n",
       "      <td>Åland Islands</td>\n",
       "      <td>🇦🇽</td>\n",
       "      <td>[Åland Islands!](country_data/ALA_Åland Island...</td>\n",
       "    </tr>\n",
       "  </tbody>\n",
       "</table>\n",
       "<p>249 rows × 3 columns</p>\n",
       "</div>"
      ],
      "text/plain": [
       "                   name flag  \\\n",
       "alpha_3                        \n",
       "AFG         Afghanistan   🇦🇫   \n",
       "ALB             Albania   🇦🇱   \n",
       "DZA             Algeria   🇩🇿   \n",
       "ASM      American Samoa   🇦🇸   \n",
       "AND             Andorra   🇦🇩   \n",
       "...                 ...  ...   \n",
       "ESH      Western Sahara   🇪🇭   \n",
       "YEM               Yemen   🇾🇪   \n",
       "ZMB              Zambia   🇿🇲   \n",
       "ZWE            Zimbabwe   🇿🇼   \n",
       "ALA       Åland Islands   🇦🇽   \n",
       "\n",
       "                                                    mdlink  \n",
       "alpha_3                                                     \n",
       "AFG         [Afghanistan!](country_data/AFG_Afghanistan/)   \n",
       "ALB                 [Albania!](country_data/ALB_Albania/)   \n",
       "DZA                 [Algeria!](country_data/DZA_Algeria/)   \n",
       "ASM      [American Samoa!](country_data/ASM_American Sa...  \n",
       "AND                 [Andorra!](country_data/AND_Andorra/)   \n",
       "...                                                    ...  \n",
       "ESH      [Western Sahara!](country_data/ESH_Western Sah...  \n",
       "YEM                     [Yemen!](country_data/YEM_Yemen/)   \n",
       "ZMB                   [Zambia!](country_data/ZMB_Zambia/)   \n",
       "ZWE               [Zimbabwe!](country_data/ZWE_Zimbabwe/)   \n",
       "ALA      [Åland Islands!](country_data/ALA_Åland Island...  \n",
       "\n",
       "[249 rows x 3 columns]"
      ]
     },
     "execution_count": 22,
     "metadata": {},
     "output_type": "execute_result"
    }
   ],
   "source": [
    "# make df of country info for regression\n",
    "warnings.filterwarnings(\"ignore\")\n",
    "df = pd.DataFrame([])\n",
    "for i, j in enumerate(STANDARD_COUNTRY_DICT.keys()):\n",
    "    df[list(pycountry.countries)[i].alpha_3] = [list(pycountry.countries)[i].name,\n",
    "                                               list(pycountry.countries)[i].flag,\n",
    "                                               f\"[{list(pycountry.countries)[i].name}!]({BASE}{j}_{STANDARD_COUNTRY_DICT[j]}/) \",\n",
    "                                               ]\n",
    "warnings.filterwarnings(\"default\")\n",
    "\n",
    "df = df.T.reset_index().rename(columns={\"index\":\"alpha_3\", 0:\"name\", 1:\"flag\", 2:\"mdlink\"}).set_index(\"alpha_3\")\n",
    "\n",
    "df = df.sort_values(\"name\")\n",
    "df"
   ]
  },
  {
   "cell_type": "code",
   "execution_count": 23,
   "id": "776a8b46-3a4f-4472-9d74-b408ae1cb1e7",
   "metadata": {},
   "outputs": [
    {
     "data": {
      "text/plain": [
       "'../country_data/MUS_Mauritius/figures/MUS_EIA_1.png'"
      ]
     },
     "execution_count": 23,
     "metadata": {},
     "output_type": "execute_result"
    }
   ],
   "source": [
    "random_fig"
   ]
  },
  {
   "cell_type": "code",
   "execution_count": 24,
   "id": "9d678097-15ed-477b-ba65-ba94db04597b",
   "metadata": {},
   "outputs": [
    {
     "name": "stdout",
     "output_type": "stream",
     "text": [
      "Homepage updated\n"
     ]
    }
   ],
   "source": [
    "def CREATE_HOMEPAGE_README():\n",
    "    # create README.md file \n",
    "\n",
    "    # open README.md\n",
    "    with open('../README.md', 'r') as f:\n",
    "        text = f.read()\n",
    "\n",
    "    # write on README\n",
    "    with open('../README.md', 'w') as f:\n",
    "        \n",
    "        \n",
    "        #INTRO and logo (normal html) \n",
    "        ###########################################################################################\n",
    "        f.write((f\"\"\"\n",
    "<center>\n",
    "<h1>\n",
    "Welcome to Greenhouse Data!\n",
    "</h1>\n",
    "<h3> \n",
    "Created by Diego Acevedo Quintanilla\n",
    "</h3>\n",
    "<img width=\"600\" src=\"supplemental/ghg-logo.png\">\n",
    "\n",
    "<p align=\"center\" style=\"font-size: 13px\">\n",
    "<a href=\"https://dquintani.github.io/Greenhouse-Data/pages/about\">About this project</a>\n",
    "</p>\n",
    "<br>\n",
    "\"\"\"\n",
    "                ))\n",
    "\n",
    "        \n",
    "        #second intro (markdown)\n",
    "        ###########################################################################################\n",
    "        f.write(markdown.markdown(\n",
    "f\"\"\"\n",
    "# Clean, homogenized GHG emissions inventory data <a href=\"{ONLINE_REPO_BASE}clean_data\">here</a>\n",
    "\n",
    "Includes: BP | EIA | UNFCCC | EDGAR | FAO | CAIT | EPA | CDIAC | PRIMAP-hist | GCP | Minx et al. 2021 | IEA\n",
    "\n",
    "<br>\n",
    "<br>\n",
    "\n",
    "# Selected entries:\n",
    "# [🌍 Global 🌍](global/)\n",
    "# [Switzerland {df.loc[\"CHE\",\"flag\"]}]({BASE}CHE_Switzerland/)\n",
    "# [USA {df.loc[\"USA\",\"flag\"]}]({BASE}USA_United States/)\n",
    "# [UK {df.loc[\"GBR\",\"flag\"]}]({BASE}GBR_United Kingdom/)\n",
    "# [China {df.loc[\"CHN\",\"flag\"]}]({BASE}CHN_China/)\n",
    "# [Bolivia {df.loc[\"BOL\",\"flag\"]}]({BASE}BOL_Bolivia/)\n",
    "# [India {df.loc[\"IND\",\"flag\"]}]({BASE}IND_India/)\n",
    "\n",
    "<br>\n",
    "<br>\n",
    "<h1 align=\"center\">\n",
    "    Random figure of the day:\n",
    "<img width=\"1000\" src=\"{random_fig[3:]}\">\n",
    "<br>\n",
    "<br>\n",
    "\n",
    "<br>\n",
    "<br>\n",
    "<h1 align=\"center\">\n",
    "    We have a diverse set of inventories and figures 👇:\n",
    "<img width=\"1000\" src=\"global/ghg_and_co2_totals.png\">\n",
    "\n",
    "<br>\n",
    "<br>\n",
    "<h1 align=\"center\">\n",
    "    For all countries of the world 👍:\n",
    "<img width=\"1000\" src=\"global/GCP_top20.png\">\n",
    "<br>\n",
    "<br>\n",
    "\"\"\"\n",
    "                                 ))\n",
    "        \n",
    "        \n",
    "        \n",
    "        \n",
    "        #ALL COUNTRY LIST\n",
    "        ############################################################################################\n",
    "        f.write(markdown.markdown(\n",
    "\"\"\"\n",
    "# Explore by Country:\n",
    "\"\"\"\n",
    "        ))\n",
    "        \n",
    "        #REGRESSION\n",
    "        for i in range(len(STANDARD_COUNTRY_DICT)):\n",
    "            f.write(markdown.markdown(f\"\"\"\n",
    "<h1>\n",
    "<center>\n",
    "<a href=\"country_data/{df.index[i]}_{STANDARD_COUNTRY_DICT[df.index[i]]}\">{STANDARD_COUNTRY_DICT[df.index[i]]} - {df.flag[i]}</a>\n",
    "</center>\n",
    "</h1>\n",
    "\"\"\"\n",
    "                                     ))\n",
    "print(\"Homepage updated\")\n",
    "        \n",
    "        \n",
    "        \n",
    "CREATE_HOMEPAGE_README()"
   ]
  },
  {
   "cell_type": "code",
   "execution_count": null,
   "id": "b7626c6c-ccc8-4bdd-8c5c-4dde267e44bf",
   "metadata": {},
   "outputs": [],
   "source": []
  }
 ],
 "metadata": {
  "kernelspec": {
   "display_name": "Python 3 (ipykernel)",
   "language": "python",
   "name": "python3"
  },
  "language_info": {
   "codemirror_mode": {
    "name": "ipython",
    "version": 3
   },
   "file_extension": ".py",
   "mimetype": "text/x-python",
   "name": "python",
   "nbconvert_exporter": "python",
   "pygments_lexer": "ipython3",
   "version": "3.8.10"
  }
 },
 "nbformat": 4,
 "nbformat_minor": 5
}
