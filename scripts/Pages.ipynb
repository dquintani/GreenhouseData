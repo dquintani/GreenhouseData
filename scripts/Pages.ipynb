{
 "cells": [
  {
   "cell_type": "markdown",
   "id": "7dd8565f-e089-4fc7-86c3-8760f50ec863",
   "metadata": {},
   "source": [
    "### notes\n",
    "- The about page is native html!"
   ]
  },
  {
   "cell_type": "code",
   "execution_count": 1,
   "id": "6e5d7074-c391-4b74-9ffe-935018445287",
   "metadata": {},
   "outputs": [],
   "source": [
    "import nbconvert\n",
    "from nbconvert import HTMLExporter\n",
    "from nbconvert.preprocessors import ExecutePreprocessor\n",
    "\n",
    "import nbformat\n",
    "\n",
    "import os\n",
    "import glob\n",
    "import sys\n",
    "import markdown\n",
    "import json\n",
    "import pycountry\n",
    "\n",
    "import os\n",
    "import markdown\n",
    "import pandas as pd\n",
    "import json\n",
    "import pycountry\n",
    "import warnings\n",
    "\n",
    "import pyperclip\n",
    "from pandas.io.clipboards import to_clipboard"
   ]
  },
  {
   "cell_type": "markdown",
   "id": "aee6cefb-b5bd-4d43-9c61-7374b8db241d",
   "metadata": {},
   "source": [
    "# Sources page is an html page converted from Inventories_Main.ipynb"
   ]
  },
  {
   "cell_type": "code",
   "execution_count": 2,
   "id": "2ce312af-f185-418f-a737-fd5fdcf361b8",
   "metadata": {},
   "outputs": [],
   "source": [
    "# read source notebook\n",
    "with open('Inventories_Main.ipynb') as f:\n",
    "    nb = nbformat.read(f, as_version=4)\n",
    "\n",
    "############## execute notebook (no need!)\n",
    "# ep = ExecutePreprocessor(timeout=-1, kernel_name='python3')\n",
    "# ep.preprocess(nb)\n",
    "\n",
    "# export to html\n",
    "html_exporter = HTMLExporter()\n",
    "html_exporter.exclude_input = True\n",
    "html_exporter.exclude_output = True\n",
    "html_exporter.theme = \"dark\"\n",
    "html_data, resources = html_exporter.from_notebook_node(nb)\n",
    "\n",
    "# write to output file\n",
    "with open(\"../pages/sources.html\", \"w\") as f:\n",
    "    f.write(html_data)"
   ]
  },
  {
   "cell_type": "code",
   "execution_count": 3,
   "id": "ff60b843-4ccb-46ba-948a-76a66177a6e1",
   "metadata": {},
   "outputs": [
    {
     "name": "stdout",
     "output_type": "stream",
     "text": [
      "pages updated\n"
     ]
    }
   ],
   "source": [
    "print(\"pages updated\")"
   ]
  },
  {
   "cell_type": "code",
   "execution_count": null,
   "id": "95607ed6-0392-4412-b760-77e6df9c4ce6",
   "metadata": {},
   "outputs": [],
   "source": []
  },
  {
   "cell_type": "markdown",
   "id": "731c83a6-311e-4dcd-99ef-01067700c673",
   "metadata": {},
   "source": [
    "# COUNTRIES PAGE"
   ]
  },
  {
   "cell_type": "code",
   "execution_count": 4,
   "id": "19b09c19-bd89-456b-80cb-1287d79b5db4",
   "metadata": {},
   "outputs": [
    {
     "name": "stdout",
     "output_type": "stream",
     "text": [
      "Homepage updated\n"
     ]
    }
   ],
   "source": [
    "%run README_homepage.ipynb"
   ]
  },
  {
   "cell_type": "code",
   "execution_count": 5,
   "id": "cef5de7b-9d97-4acd-ae2e-652a48aca7b8",
   "metadata": {},
   "outputs": [
    {
     "data": {
      "text/html": [
       "<div>\n",
       "<style scoped>\n",
       "    .dataframe tbody tr th:only-of-type {\n",
       "        vertical-align: middle;\n",
       "    }\n",
       "\n",
       "    .dataframe tbody tr th {\n",
       "        vertical-align: top;\n",
       "    }\n",
       "\n",
       "    .dataframe thead th {\n",
       "        text-align: right;\n",
       "    }\n",
       "</style>\n",
       "<table border=\"1\" class=\"dataframe\">\n",
       "  <thead>\n",
       "    <tr style=\"text-align: right;\">\n",
       "      <th></th>\n",
       "      <th>name</th>\n",
       "      <th>flag</th>\n",
       "      <th>mdlink</th>\n",
       "    </tr>\n",
       "    <tr>\n",
       "      <th>alpha_3</th>\n",
       "      <th></th>\n",
       "      <th></th>\n",
       "      <th></th>\n",
       "    </tr>\n",
       "  </thead>\n",
       "  <tbody>\n",
       "    <tr>\n",
       "      <th>AFG</th>\n",
       "      <td>Afghanistan</td>\n",
       "      <td>🇦🇫</td>\n",
       "      <td>[Afghanistan!](country_data/AFG_Afghanistan/)</td>\n",
       "    </tr>\n",
       "    <tr>\n",
       "      <th>ALB</th>\n",
       "      <td>Albania</td>\n",
       "      <td>🇦🇱</td>\n",
       "      <td>[Albania!](country_data/ALB_Albania/)</td>\n",
       "    </tr>\n",
       "    <tr>\n",
       "      <th>DZA</th>\n",
       "      <td>Algeria</td>\n",
       "      <td>🇩🇿</td>\n",
       "      <td>[Algeria!](country_data/DZA_Algeria/)</td>\n",
       "    </tr>\n",
       "    <tr>\n",
       "      <th>ASM</th>\n",
       "      <td>American Samoa</td>\n",
       "      <td>🇦🇸</td>\n",
       "      <td>[American Samoa!](country_data/ASM_American Sa...</td>\n",
       "    </tr>\n",
       "    <tr>\n",
       "      <th>AND</th>\n",
       "      <td>Andorra</td>\n",
       "      <td>🇦🇩</td>\n",
       "      <td>[Andorra!](country_data/AND_Andorra/)</td>\n",
       "    </tr>\n",
       "    <tr>\n",
       "      <th>...</th>\n",
       "      <td>...</td>\n",
       "      <td>...</td>\n",
       "      <td>...</td>\n",
       "    </tr>\n",
       "    <tr>\n",
       "      <th>ESH</th>\n",
       "      <td>Western Sahara</td>\n",
       "      <td>🇪🇭</td>\n",
       "      <td>[Western Sahara!](country_data/ESH_Western Sah...</td>\n",
       "    </tr>\n",
       "    <tr>\n",
       "      <th>YEM</th>\n",
       "      <td>Yemen</td>\n",
       "      <td>🇾🇪</td>\n",
       "      <td>[Yemen!](country_data/YEM_Yemen/)</td>\n",
       "    </tr>\n",
       "    <tr>\n",
       "      <th>ZMB</th>\n",
       "      <td>Zambia</td>\n",
       "      <td>🇿🇲</td>\n",
       "      <td>[Zambia!](country_data/ZMB_Zambia/)</td>\n",
       "    </tr>\n",
       "    <tr>\n",
       "      <th>ZWE</th>\n",
       "      <td>Zimbabwe</td>\n",
       "      <td>🇿🇼</td>\n",
       "      <td>[Zimbabwe!](country_data/ZWE_Zimbabwe/)</td>\n",
       "    </tr>\n",
       "    <tr>\n",
       "      <th>ALA</th>\n",
       "      <td>Åland Islands</td>\n",
       "      <td>🇦🇽</td>\n",
       "      <td>[Åland Islands!](country_data/ALA_Åland Island...</td>\n",
       "    </tr>\n",
       "  </tbody>\n",
       "</table>\n",
       "<p>249 rows × 3 columns</p>\n",
       "</div>"
      ],
      "text/plain": [
       "                   name flag  \\\n",
       "alpha_3                        \n",
       "AFG         Afghanistan   🇦🇫   \n",
       "ALB             Albania   🇦🇱   \n",
       "DZA             Algeria   🇩🇿   \n",
       "ASM      American Samoa   🇦🇸   \n",
       "AND             Andorra   🇦🇩   \n",
       "...                 ...  ...   \n",
       "ESH      Western Sahara   🇪🇭   \n",
       "YEM               Yemen   🇾🇪   \n",
       "ZMB              Zambia   🇿🇲   \n",
       "ZWE            Zimbabwe   🇿🇼   \n",
       "ALA       Åland Islands   🇦🇽   \n",
       "\n",
       "                                                    mdlink  \n",
       "alpha_3                                                     \n",
       "AFG         [Afghanistan!](country_data/AFG_Afghanistan/)   \n",
       "ALB                 [Albania!](country_data/ALB_Albania/)   \n",
       "DZA                 [Algeria!](country_data/DZA_Algeria/)   \n",
       "ASM      [American Samoa!](country_data/ASM_American Sa...  \n",
       "AND                 [Andorra!](country_data/AND_Andorra/)   \n",
       "...                                                    ...  \n",
       "ESH      [Western Sahara!](country_data/ESH_Western Sah...  \n",
       "YEM                     [Yemen!](country_data/YEM_Yemen/)   \n",
       "ZMB                   [Zambia!](country_data/ZMB_Zambia/)   \n",
       "ZWE               [Zimbabwe!](country_data/ZWE_Zimbabwe/)   \n",
       "ALA      [Åland Islands!](country_data/ALA_Åland Island...  \n",
       "\n",
       "[249 rows x 3 columns]"
      ]
     },
     "execution_count": 5,
     "metadata": {},
     "output_type": "execute_result"
    }
   ],
   "source": [
    "df"
   ]
  },
  {
   "cell_type": "code",
   "execution_count": 6,
   "id": "53632110-0610-4a52-9711-9d25a07d9002",
   "metadata": {},
   "outputs": [
    {
     "name": "stdout",
     "output_type": "stream",
     "text": [
      "countries page updated\n"
     ]
    }
   ],
   "source": [
    "def CREATE_COUNTRY_PAGE_README():\n",
    "    # create README.md file\n",
    "    \n",
    "\n",
    "    # open README.md\n",
    "    with open('../pages/countries.md', 'r') as f:\n",
    "        text = f.read()\n",
    "\n",
    "    # write on README\n",
    "    with open('../pages/countries.md', 'w') as f:\n",
    "\n",
    "#ALL COUNTRY LIST\n",
    "        ############################################################################################\n",
    "        f.write(markdown.markdown(\n",
    "f\"\"\"\n",
    "# Explore figures and data by Country:\n",
    "\"\"\"\n",
    "        ))\n",
    "        \n",
    "        #REGRESSION\n",
    "        for i in range(len(STANDARD_COUNTRY_DICT)):\n",
    "            f.write(markdown.markdown(f\"\"\"\n",
    "<h1>\n",
    "<center>\n",
    "<a href=\"../country_data/{df.index[i]}_{STANDARD_COUNTRY_DICT[df.index[i]]}\">{df.flag[i]} ~ {STANDARD_COUNTRY_DICT[df.index[i]]} ~ {df.flag[i]}</a>\n",
    "</center>\n",
    "</h1>\n",
    "\"\"\"\n",
    "                                     ))\n",
    "print(\"countries page updated\")\n",
    "        \n",
    "        \n",
    "        \n",
    "CREATE_COUNTRY_PAGE_README()"
   ]
  }
 ],
 "metadata": {
  "kernelspec": {
   "display_name": "Python 3 (ipykernel)",
   "language": "python",
   "name": "python3"
  },
  "language_info": {
   "codemirror_mode": {
    "name": "ipython",
    "version": 3
   },
   "file_extension": ".py",
   "mimetype": "text/x-python",
   "name": "python",
   "nbconvert_exporter": "python",
   "pygments_lexer": "ipython3",
   "version": "3.9.12"
  },
  "widgets": {
   "application/vnd.jupyter.widget-state+json": {
    "state": {},
    "version_major": 2,
    "version_minor": 0
   }
  }
 },
 "nbformat": 4,
 "nbformat_minor": 5
}
