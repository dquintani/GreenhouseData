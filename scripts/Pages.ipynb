{
 "cells": [
  {
   "cell_type": "markdown",
   "id": "7dd8565f-e089-4fc7-86c3-8760f50ec863",
   "metadata": {},
   "source": [
    "### notes\n",
    "- The about page is native html!"
   ]
  },
  {
   "cell_type": "code",
   "execution_count": 2,
   "id": "6e5d7074-c391-4b74-9ffe-935018445287",
   "metadata": {},
   "outputs": [],
   "source": [
    "import nbconvert\n",
    "from nbconvert import HTMLExporter\n",
    "from nbconvert.preprocessors import ExecutePreprocessor\n",
    "\n",
    "import nbformat"
   ]
  },
  {
   "cell_type": "markdown",
   "id": "aee6cefb-b5bd-4d43-9c61-7374b8db241d",
   "metadata": {},
   "source": [
    "# Sources page is an html page converted from Inventories_Main.ipynb"
   ]
  },
  {
   "cell_type": "code",
   "execution_count": 4,
   "id": "2ce312af-f185-418f-a737-fd5fdcf361b8",
   "metadata": {},
   "outputs": [],
   "source": [
    "# read source notebook\n",
    "with open('Inventories_Main.ipynb') as f:\n",
    "    nb = nbformat.read(f, as_version=4)\n",
    "\n",
    "############## execute notebook (no need!)\n",
    "# ep = ExecutePreprocessor(timeout=-1, kernel_name='python3')\n",
    "# ep.preprocess(nb)\n",
    "\n",
    "# export to html\n",
    "html_exporter = HTMLExporter()\n",
    "html_exporter.exclude_input = True\n",
    "html_exporter.exclude_output = True\n",
    "html_exporter.theme = \"dark\"\n",
    "html_data, resources = html_exporter.from_notebook_node(nb)\n",
    "\n",
    "# write to output file\n",
    "with open(\"../pages/sources.html\", \"w\") as f:\n",
    "    f.write(html_data)"
   ]
  },
  {
   "cell_type": "code",
   "execution_count": 5,
   "id": "ff60b843-4ccb-46ba-948a-76a66177a6e1",
   "metadata": {},
   "outputs": [
    {
     "name": "stdout",
     "output_type": "stream",
     "text": [
      "pages updated\n"
     ]
    }
   ],
   "source": [
    "print(\"pages updated\")"
   ]
  }
 ],
 "metadata": {
  "kernelspec": {
   "display_name": "Python 3 (ipykernel)",
   "language": "python",
   "name": "python3"
  },
  "language_info": {
   "codemirror_mode": {
    "name": "ipython",
    "version": 3
   },
   "file_extension": ".py",
   "mimetype": "text/x-python",
   "name": "python",
   "nbconvert_exporter": "python",
   "pygments_lexer": "ipython3",
   "version": "3.8.10"
  }
 },
 "nbformat": 4,
 "nbformat_minor": 5
}
