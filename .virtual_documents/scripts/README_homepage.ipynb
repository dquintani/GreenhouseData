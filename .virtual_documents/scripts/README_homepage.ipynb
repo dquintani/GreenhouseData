import os
import markdown
import pandas as pd
import json
import pycountry
import warnings

import pyperclip
from pandas.io.clipboards import to_clipboard


STANDARD_COUNTRY_DICT = json.load(open("../supplemental/STANDARD_COUNTRY_DICT_ISO3.json", "r"))


BASE = "country_data/"
CLEAN_DATA_DIR = "../clean_data/"
ONLINE_REPO_BASE = "https://github.com/dquintani/GreenhouseData/tree/master/"


# make df of country info for regression
warnings.filterwarnings("ignore")
df = pd.DataFrame([])
for i, j in enumerate(STANDARD_COUNTRY_DICT.keys()):
    df[list(pycountry.countries)[i].alpha_3] = [list(pycountry.countries)[i].name,
                                               list(pycountry.countries)[i].flag,
                                               f"[{list(pycountry.countries)[i].name}!]({BASE}{j}_{STANDARD_COUNTRY_DICT[j]}/) ",
                                               ]
warnings.filterwarnings("default")

df = df.T.reset_index().rename(columns={"index":"alpha_3", 0:"name", 1:"flag", 2:"mdlink"}).set_index("alpha_3")

df = df.sort_values("name")
df


def CREATE_HOMEPAGE_README():
    # create README.md file 

    # open README.md
    with open('../README.md', 'r') as f:
        text = f.read()

    # write on README
    with open('../README.md', 'w') as f:
        
        
        #INTRO and logo (normal html) 
        ###########################################################################################
        f.write((f"""
<center>
<h1>
Welcome to Greenhouse Data!
</h1>
<h3> 
Created by Diego Acevedo Quintanilla
</h3>
<img width="600" src="supplemental/ghg-logo.png">

<p align="center" style="font-size: 13px">
<a href="https://dquintani.github.io/GreenhouseData/pages/about">About this project</a>
</p>
<br>
"""
                ))

        
        #second intro (markdown)
        ###########################################################################################
        f.write(markdown.markdown(
f"""
# Clean, homogenized GHG emissions inventory data <a href="{ONLINE_REPO_BASE}clean_data">here</a>

Includes: BP | EIA | UNFCCC | EDGAR | FAO | CAIT | EPA | CDIAC | PRIMAP-hist | GCP | Minx et al. 2021 | IEA

<br>
<br>

# Selected entries:
# [🌍 Global 🌍](global/)
# [Switzerland {df.loc["CHE","flag"]}]({BASE}CHE_Switzerland/)
# [USA {df.loc["USA","flag"]}]({BASE}USA_United States/)
# [UK {df.loc["GBR","flag"]}]({BASE}GBR_United Kingdom/)
# [China {df.loc["CHN","flag"]}]({BASE}CHN_China/)
# [Bolivia {df.loc["BOL","flag"]}]({BASE}BOL_Bolivia/)
# [India {df.loc["IND","flag"]}]({BASE}IND_India/)

<br>
<h1 align="center">
    NOAA GHG Summary:
<br>
<br>
<p style="font-size: 12px">
(checks for updates daily)
</p>

<img width="1200" src="global/NOAA_summary.png">
<br>
<br>


<br>
<br>
<h1 align="center">
    Random figure:
<br>
<br>
<p style="font-size: 12px">
Updated every 3 hours
</p>

<img width="1200" src="supplemental/random_daily_fig.png">
<br>
<br>

<br>
<br>
<h1 align="center">
    We hold a diverse set of inventories and figures ...
<br>
<br>
<img width="1200" src="global/ghg_and_co2_totals.png">

<br>
<br>
<h1 align="center">
    ... for all countries of the world.
<br>
<br>
<img width="1200" src="global/GCP_top20.png">
<br>
<br>

<p align="center">
<h1 align="center">
    Follow us on Twitter!
<br>
<br>
<a href="https://twitter.com/greenhousedata?ref_src=twsrc%5Etfw" class="twitter-follow-button" data-size="large" data-show-count="false">Follow @greenhousedata</a><script async src="https://platform.twitter.com/widgets.js" charset="utf-8"></script>
<br>
<a class="twitter-timeline" data-height="1200" data-width="60%" data-theme="dark" href="https://twitter.com/GreenhouseData?ref_src=twsrc%5Etfw">Tweets by GreenhouseData</a> <script async src="https://platform.twitter.com/widgets.js" charset="utf-8"></script>
<br>
<br>
"""
                                 ))
        
        
        
        
        #ALL COUNTRY LIST
        ############################################################################################
        f.write(markdown.markdown(
f"""
# Explore figures and data by Country:
"""
        ))
        
        #REGRESSION
        for i in range(len(STANDARD_COUNTRY_DICT)):
            f.write(markdown.markdown(f"""
<h1>
<center>
<a href="country_data/{df.index[i]}_{STANDARD_COUNTRY_DICT[df.index[i]]}">{df.flag[i]} ~ {STANDARD_COUNTRY_DICT[df.index[i]]} ~ {df.flag[i]}</a>
</center>
</h1>
"""
                                     ))
print("Homepage updated")
        
        
        
CREATE_HOMEPAGE_README()



